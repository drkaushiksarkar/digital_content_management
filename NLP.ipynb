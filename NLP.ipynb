{
  "cells": [
    {
      "cell_type": "markdown",
      "metadata": {
        "id": "view-in-github",
        "colab_type": "text"
      },
      "source": [
        "<a href=\"https://colab.research.google.com/github/drkaushiksarkar/digital_content_management/blob/main/NLP.ipynb\" target=\"_parent\"><img src=\"https://colab.research.google.com/assets/colab-badge.svg\" alt=\"Open In Colab\"/></a>"
      ]
    },
    {
      "cell_type": "code",
      "execution_count": null,
      "metadata": {
        "colab": {
          "base_uri": "https://localhost:8080/"
        },
        "id": "jva5hS8L_ava",
        "outputId": "a17f1d4b-6136-4e68-e7a2-24a592752bbf"
      },
      "outputs": [
        {
          "name": "stdout",
          "output_type": "stream",
          "text": [
            "Mounted at /content/gdrive\n"
          ]
        }
      ],
      "source": [
        "# Mount Google Drive\n",
        "from google.colab import drive\n",
        "drive.mount(\"/content/gdrive\")"
      ]
    },
    {
      "cell_type": "markdown",
      "metadata": {
        "id": "T-oCfcdtMxzz"
      },
      "source": [
        "Build a text classifier using the blog authorship data "
      ]
    },
    {
      "cell_type": "code",
      "execution_count": null,
      "metadata": {
        "id": "oFWFycvdAAWz"
      },
      "outputs": [],
      "source": [
        "# Import Libraries\n",
        "\n",
        "import os\n",
        "import sys\n",
        "import warnings                                 # `dnd` mode\n",
        "warnings.filterwarnings('ignore')\n",
        "\n",
        "import numpy as np\n",
        "import pandas as pd\n",
        "import re\n",
        "from nltk.corpus import stopwords\n",
        "from sklearn.feature_extraction.text import CountVectorizer, TfidfVectorizer\n",
        "from sklearn.preprocessing import MultiLabelBinarizer\n",
        "from sklearn.model_selection import train_test_split\n",
        "\n",
        "from sklearn.linear_model import LogisticRegression\n",
        "from sklearn.pipeline import Pipeline\n",
        "from sklearn.metrics import accuracy_score\n",
        "from sklearn.multiclass import OneVsRestClassifier\n",
        "\n",
        "\n",
        "import seaborn as sns\n",
        "import matplotlib as plt\n",
        "%matplotlib inline"
      ]
    },
    {
      "cell_type": "markdown",
      "metadata": {
        "id": "hwu4KTxECQC6"
      },
      "source": [
        "**Import and analyze the dataset**"
      ]
    },
    {
      "cell_type": "code",
      "execution_count": null,
      "metadata": {
        "id": "tgApk7l1_h9U"
      },
      "outputs": [],
      "source": [
        "blogtext_df = pd.read_csv(\"/content/gdrive/MyDrive/GL data/P9/blogtext.csv\")"
      ]
    },
    {
      "cell_type": "code",
      "execution_count": null,
      "metadata": {
        "colab": {
          "base_uri": "https://localhost:8080/"
        },
        "id": "yb5__YAQAKR5",
        "outputId": "2ae5dc34-a75c-40cf-d172-b9e11a93def2"
      },
      "outputs": [
        {
          "data": {
            "text/plain": [
              "(681284, 7)"
            ]
          },
          "execution_count": 4,
          "metadata": {
            "tags": []
          },
          "output_type": "execute_result"
        }
      ],
      "source": [
        "#Check the shape of the data\n",
        "blogtext_df.shape"
      ]
    },
    {
      "cell_type": "code",
      "execution_count": null,
      "metadata": {
        "colab": {
          "base_uri": "https://localhost:8080/",
          "height": 359
        },
        "id": "NOAHuoHHAPVL",
        "outputId": "5d714929-07eb-4480-cc32-89b56d820a0e"
      },
      "outputs": [
        {
          "data": {
            "text/html": [
              "<div>\n",
              "<style scoped>\n",
              "    .dataframe tbody tr th:only-of-type {\n",
              "        vertical-align: middle;\n",
              "    }\n",
              "\n",
              "    .dataframe tbody tr th {\n",
              "        vertical-align: top;\n",
              "    }\n",
              "\n",
              "    .dataframe thead th {\n",
              "        text-align: right;\n",
              "    }\n",
              "</style>\n",
              "<table border=\"1\" class=\"dataframe\">\n",
              "  <thead>\n",
              "    <tr style=\"text-align: right;\">\n",
              "      <th></th>\n",
              "      <th>id</th>\n",
              "      <th>gender</th>\n",
              "      <th>age</th>\n",
              "      <th>topic</th>\n",
              "      <th>sign</th>\n",
              "      <th>date</th>\n",
              "      <th>text</th>\n",
              "    </tr>\n",
              "  </thead>\n",
              "  <tbody>\n",
              "    <tr>\n",
              "      <th>0</th>\n",
              "      <td>2059027</td>\n",
              "      <td>male</td>\n",
              "      <td>15</td>\n",
              "      <td>Student</td>\n",
              "      <td>Leo</td>\n",
              "      <td>14,May,2004</td>\n",
              "      <td>Info has been found (+/- 100 pages,...</td>\n",
              "    </tr>\n",
              "    <tr>\n",
              "      <th>1</th>\n",
              "      <td>2059027</td>\n",
              "      <td>male</td>\n",
              "      <td>15</td>\n",
              "      <td>Student</td>\n",
              "      <td>Leo</td>\n",
              "      <td>13,May,2004</td>\n",
              "      <td>These are the team members:   Drewe...</td>\n",
              "    </tr>\n",
              "    <tr>\n",
              "      <th>2</th>\n",
              "      <td>2059027</td>\n",
              "      <td>male</td>\n",
              "      <td>15</td>\n",
              "      <td>Student</td>\n",
              "      <td>Leo</td>\n",
              "      <td>12,May,2004</td>\n",
              "      <td>In het kader van kernfusie op aarde...</td>\n",
              "    </tr>\n",
              "    <tr>\n",
              "      <th>3</th>\n",
              "      <td>2059027</td>\n",
              "      <td>male</td>\n",
              "      <td>15</td>\n",
              "      <td>Student</td>\n",
              "      <td>Leo</td>\n",
              "      <td>12,May,2004</td>\n",
              "      <td>testing!!!  testing!!!</td>\n",
              "    </tr>\n",
              "    <tr>\n",
              "      <th>4</th>\n",
              "      <td>3581210</td>\n",
              "      <td>male</td>\n",
              "      <td>33</td>\n",
              "      <td>InvestmentBanking</td>\n",
              "      <td>Aquarius</td>\n",
              "      <td>11,June,2004</td>\n",
              "      <td>Thanks to Yahoo!'s Toolbar I can ...</td>\n",
              "    </tr>\n",
              "    <tr>\n",
              "      <th>5</th>\n",
              "      <td>3581210</td>\n",
              "      <td>male</td>\n",
              "      <td>33</td>\n",
              "      <td>InvestmentBanking</td>\n",
              "      <td>Aquarius</td>\n",
              "      <td>10,June,2004</td>\n",
              "      <td>I had an interesting conversation...</td>\n",
              "    </tr>\n",
              "    <tr>\n",
              "      <th>6</th>\n",
              "      <td>3581210</td>\n",
              "      <td>male</td>\n",
              "      <td>33</td>\n",
              "      <td>InvestmentBanking</td>\n",
              "      <td>Aquarius</td>\n",
              "      <td>10,June,2004</td>\n",
              "      <td>Somehow Coca-Cola has a way of su...</td>\n",
              "    </tr>\n",
              "    <tr>\n",
              "      <th>7</th>\n",
              "      <td>3581210</td>\n",
              "      <td>male</td>\n",
              "      <td>33</td>\n",
              "      <td>InvestmentBanking</td>\n",
              "      <td>Aquarius</td>\n",
              "      <td>10,June,2004</td>\n",
              "      <td>If anything, Korea is a country o...</td>\n",
              "    </tr>\n",
              "    <tr>\n",
              "      <th>8</th>\n",
              "      <td>3581210</td>\n",
              "      <td>male</td>\n",
              "      <td>33</td>\n",
              "      <td>InvestmentBanking</td>\n",
              "      <td>Aquarius</td>\n",
              "      <td>10,June,2004</td>\n",
              "      <td>Take a read of this news article ...</td>\n",
              "    </tr>\n",
              "    <tr>\n",
              "      <th>9</th>\n",
              "      <td>3581210</td>\n",
              "      <td>male</td>\n",
              "      <td>33</td>\n",
              "      <td>InvestmentBanking</td>\n",
              "      <td>Aquarius</td>\n",
              "      <td>09,June,2004</td>\n",
              "      <td>I surf the English news sites a l...</td>\n",
              "    </tr>\n",
              "  </tbody>\n",
              "</table>\n",
              "</div>"
            ],
            "text/plain": [
              "        id  ...                                               text\n",
              "0  2059027  ...             Info has been found (+/- 100 pages,...\n",
              "1  2059027  ...             These are the team members:   Drewe...\n",
              "2  2059027  ...             In het kader van kernfusie op aarde...\n",
              "3  2059027  ...                   testing!!!  testing!!!          \n",
              "4  3581210  ...               Thanks to Yahoo!'s Toolbar I can ...\n",
              "5  3581210  ...               I had an interesting conversation...\n",
              "6  3581210  ...               Somehow Coca-Cola has a way of su...\n",
              "7  3581210  ...               If anything, Korea is a country o...\n",
              "8  3581210  ...               Take a read of this news article ...\n",
              "9  3581210  ...               I surf the English news sites a l...\n",
              "\n",
              "[10 rows x 7 columns]"
            ]
          },
          "execution_count": 5,
          "metadata": {
            "tags": []
          },
          "output_type": "execute_result"
        }
      ],
      "source": [
        "#Check the first 10 rows\n",
        "blogtext_df.head(10)"
      ]
    },
    {
      "cell_type": "code",
      "execution_count": null,
      "metadata": {
        "colab": {
          "base_uri": "https://localhost:8080/",
          "height": 359
        },
        "id": "eje3caMhARca",
        "outputId": "a809951a-aa7e-4190-9d7a-326122898d64"
      },
      "outputs": [
        {
          "data": {
            "text/html": [
              "<div>\n",
              "<style scoped>\n",
              "    .dataframe tbody tr th:only-of-type {\n",
              "        vertical-align: middle;\n",
              "    }\n",
              "\n",
              "    .dataframe tbody tr th {\n",
              "        vertical-align: top;\n",
              "    }\n",
              "\n",
              "    .dataframe thead th {\n",
              "        text-align: right;\n",
              "    }\n",
              "</style>\n",
              "<table border=\"1\" class=\"dataframe\">\n",
              "  <thead>\n",
              "    <tr style=\"text-align: right;\">\n",
              "      <th></th>\n",
              "      <th>id</th>\n",
              "      <th>gender</th>\n",
              "      <th>age</th>\n",
              "      <th>topic</th>\n",
              "      <th>sign</th>\n",
              "      <th>date</th>\n",
              "      <th>text</th>\n",
              "    </tr>\n",
              "  </thead>\n",
              "  <tbody>\n",
              "    <tr>\n",
              "      <th>681274</th>\n",
              "      <td>1713845</td>\n",
              "      <td>male</td>\n",
              "      <td>23</td>\n",
              "      <td>Student</td>\n",
              "      <td>Taurus</td>\n",
              "      <td>04,July,2004</td>\n",
              "      <td>Dear Susan,  Your mother was an insuffe...</td>\n",
              "    </tr>\n",
              "    <tr>\n",
              "      <th>681275</th>\n",
              "      <td>1713845</td>\n",
              "      <td>male</td>\n",
              "      <td>23</td>\n",
              "      <td>Student</td>\n",
              "      <td>Taurus</td>\n",
              "      <td>04,July,2004</td>\n",
              "      <td>Dear Susan,   It's Mom. I just got thos...</td>\n",
              "    </tr>\n",
              "    <tr>\n",
              "      <th>681276</th>\n",
              "      <td>1713845</td>\n",
              "      <td>male</td>\n",
              "      <td>23</td>\n",
              "      <td>Student</td>\n",
              "      <td>Taurus</td>\n",
              "      <td>04,July,2004</td>\n",
              "      <td>Everyone hates you. You should actually...</td>\n",
              "    </tr>\n",
              "    <tr>\n",
              "      <th>681277</th>\n",
              "      <td>1713845</td>\n",
              "      <td>male</td>\n",
              "      <td>23</td>\n",
              "      <td>Student</td>\n",
              "      <td>Taurus</td>\n",
              "      <td>02,July,2004</td>\n",
              "      <td>Dear Susan,  There once was a bird the ...</td>\n",
              "    </tr>\n",
              "    <tr>\n",
              "      <th>681278</th>\n",
              "      <td>1713845</td>\n",
              "      <td>male</td>\n",
              "      <td>23</td>\n",
              "      <td>Student</td>\n",
              "      <td>Taurus</td>\n",
              "      <td>01,July,2004</td>\n",
              "      <td>Dear Susan, you keep asking me who your...</td>\n",
              "    </tr>\n",
              "    <tr>\n",
              "      <th>681279</th>\n",
              "      <td>1713845</td>\n",
              "      <td>male</td>\n",
              "      <td>23</td>\n",
              "      <td>Student</td>\n",
              "      <td>Taurus</td>\n",
              "      <td>01,July,2004</td>\n",
              "      <td>Dear Susan,  I could write some really ...</td>\n",
              "    </tr>\n",
              "    <tr>\n",
              "      <th>681280</th>\n",
              "      <td>1713845</td>\n",
              "      <td>male</td>\n",
              "      <td>23</td>\n",
              "      <td>Student</td>\n",
              "      <td>Taurus</td>\n",
              "      <td>01,July,2004</td>\n",
              "      <td>Dear Susan,  'I have the second yeast i...</td>\n",
              "    </tr>\n",
              "    <tr>\n",
              "      <th>681281</th>\n",
              "      <td>1713845</td>\n",
              "      <td>male</td>\n",
              "      <td>23</td>\n",
              "      <td>Student</td>\n",
              "      <td>Taurus</td>\n",
              "      <td>01,July,2004</td>\n",
              "      <td>Dear Susan,  Your 'boyfriend' is fuckin...</td>\n",
              "    </tr>\n",
              "    <tr>\n",
              "      <th>681282</th>\n",
              "      <td>1713845</td>\n",
              "      <td>male</td>\n",
              "      <td>23</td>\n",
              "      <td>Student</td>\n",
              "      <td>Taurus</td>\n",
              "      <td>01,July,2004</td>\n",
              "      <td>Dear Susan:    Just to clarify, I am as...</td>\n",
              "    </tr>\n",
              "    <tr>\n",
              "      <th>681283</th>\n",
              "      <td>1713845</td>\n",
              "      <td>male</td>\n",
              "      <td>23</td>\n",
              "      <td>Student</td>\n",
              "      <td>Taurus</td>\n",
              "      <td>01,July,2004</td>\n",
              "      <td>Hey everybody...and Susan,  You might a...</td>\n",
              "    </tr>\n",
              "  </tbody>\n",
              "</table>\n",
              "</div>"
            ],
            "text/plain": [
              "             id  ...                                               text\n",
              "681274  1713845  ...         Dear Susan,  Your mother was an insuffe...\n",
              "681275  1713845  ...         Dear Susan,   It's Mom. I just got thos...\n",
              "681276  1713845  ...         Everyone hates you. You should actually...\n",
              "681277  1713845  ...         Dear Susan,  There once was a bird the ...\n",
              "681278  1713845  ...         Dear Susan, you keep asking me who your...\n",
              "681279  1713845  ...         Dear Susan,  I could write some really ...\n",
              "681280  1713845  ...         Dear Susan,  'I have the second yeast i...\n",
              "681281  1713845  ...         Dear Susan,  Your 'boyfriend' is fuckin...\n",
              "681282  1713845  ...         Dear Susan:    Just to clarify, I am as...\n",
              "681283  1713845  ...         Hey everybody...and Susan,  You might a...\n",
              "\n",
              "[10 rows x 7 columns]"
            ]
          },
          "execution_count": 6,
          "metadata": {
            "tags": []
          },
          "output_type": "execute_result"
        }
      ],
      "source": [
        "#Check the last 10 rows\n",
        "blogtext_df.tail(10)"
      ]
    },
    {
      "cell_type": "code",
      "execution_count": null,
      "metadata": {
        "colab": {
          "base_uri": "https://localhost:8080/"
        },
        "id": "37jigbJSAT-0",
        "outputId": "444efd65-ffa5-45ef-d1ef-ef4ee636d47d"
      },
      "outputs": [
        {
          "name": "stdout",
          "output_type": "stream",
          "text": [
            "<class 'pandas.core.frame.DataFrame'>\n",
            "RangeIndex: 681284 entries, 0 to 681283\n",
            "Data columns (total 7 columns):\n",
            " #   Column  Non-Null Count   Dtype \n",
            "---  ------  --------------   ----- \n",
            " 0   id      681284 non-null  int64 \n",
            " 1   gender  681284 non-null  object\n",
            " 2   age     681284 non-null  int64 \n",
            " 3   topic   681284 non-null  object\n",
            " 4   sign    681284 non-null  object\n",
            " 5   date    681284 non-null  object\n",
            " 6   text    681284 non-null  object\n",
            "dtypes: int64(2), object(5)\n",
            "memory usage: 36.4+ MB\n"
          ]
        }
      ],
      "source": [
        "#check the feature/columns  \n",
        "blogtext_df.info()"
      ]
    },
    {
      "cell_type": "code",
      "execution_count": null,
      "metadata": {
        "colab": {
          "base_uri": "https://localhost:8080/",
          "height": 279
        },
        "id": "hTiboCHjAW7I",
        "outputId": "9835dbbb-1fcd-4f81-af73-1ee017527bf6"
      },
      "outputs": [
        {
          "data": {
            "image/png": "[encoded data removed]",
            "text/plain": [
              "<Figure size 432x288 with 1 Axes>"
            ]
          },
          "metadata": {
            "needs_background": "light",
            "tags": []
          },
          "output_type": "display_data"
        }
      ],
      "source": [
        "#Check gender-wise distribution\n",
        "sns.countplot(x='gender',data=blogtext_df);"
      ]
    },
    {
      "cell_type": "code",
      "execution_count": null,
      "metadata": {
        "colab": {
          "base_uri": "https://localhost:8080/",
          "height": 279
        },
        "id": "h-pGS_AhAZbF",
        "outputId": "ada0d5ee-2bd1-4f3b-d57f-55e5a03b453f"
      },
      "outputs": [
        {
          "data": {
            "image/png": "[encoded data removed]",
            "text/plain": [
              "<Figure size 432x288 with 1 Axes>"
            ]
          },
          "metadata": {
            "needs_background": "light",
            "tags": []
          },
          "output_type": "display_data"
        }
      ],
      "source": [
        "#Check age distribution\n",
        "age = blogtext_df.age\n",
        "sns.distplot(age);"
      ]
    },
    {
      "cell_type": "code",
      "execution_count": null,
      "metadata": {
        "colab": {
          "base_uri": "https://localhost:8080/",
          "height": 531
        },
        "id": "yCnH7BRJAcF8",
        "outputId": "eb492cf2-8a76-465a-ae0f-988e3109ebfb"
      },
      "outputs": [
        {
          "data": {
            "image/png": "[encoded data removed]",
            "text/plain": [
              "<Figure size 2160x720 with 1 Axes>"
            ]
          },
          "metadata": {
            "tags": []
          },
          "output_type": "display_data"
        }
      ],
      "source": [
        "#Check the topic distribution\n",
        "sns.set(rc={'figure.figsize':(30,10)})\n",
        "ax = sns.countplot(x='topic',data=blogtext_df)\n",
        "ax.xaxis.set_tick_params(rotation=45)"
      ]
    },
    {
      "cell_type": "code",
      "execution_count": null,
      "metadata": {
        "colab": {
          "base_uri": "https://localhost:8080/",
          "height": 650
        },
        "id": "dW3-Cn4qAfNZ",
        "outputId": "a5ebc014-4dac-4fea-b06b-98e7191fbcc1"
      },
      "outputs": [
        {
          "data": {
            "image/png": "[encoded data removed]",
            "text/plain": [
              "<Figure size 1440x720 with 1 Axes>"
            ]
          },
          "metadata": {
            "tags": []
          },
          "output_type": "display_data"
        }
      ],
      "source": [
        "#Check the sign distribution\n",
        "sns.set(rc={'figure.figsize':(20,10)})\n",
        "ax = sns.countplot(x='sign',data=blogtext_df)\n",
        "ax.xaxis.set_tick_params(rotation = 45);"
      ]
    },
    {
      "cell_type": "code",
      "execution_count": null,
      "metadata": {
        "colab": {
          "base_uri": "https://localhost:8080/",
          "height": 531
        },
        "id": "qy1QZeE2Bwgn",
        "outputId": "15aa7869-24d0-41d4-e7de-f4d45b803f6b"
      },
      "outputs": [
        {
          "data": {
            "image/png": "[encoded data removed]",
            "text/plain": [
              "<Figure size 2160x720 with 1 Axes>"
            ]
          },
          "metadata": {
            "tags": []
          },
          "output_type": "display_data"
        }
      ],
      "source": [
        "#Check the topic distribution\n",
        "sns.set(rc={'figure.figsize':(30,10)})\n",
        "ax = sns.countplot(x='topic',data=blogtext_df)\n",
        "ax.xaxis.set_tick_params(rotation=45);"
      ]
    },
    {
      "cell_type": "markdown",
      "metadata": {
        "id": "9NxJIAv-CUId"
      },
      "source": [
        "**Perform data preprocessing**"
      ]
    },
    {
      "cell_type": "code",
      "execution_count": null,
      "metadata": {
        "id": "lNDxTKwnXqrp"
      },
      "outputs": [],
      "source": [
        "sample_df = pd.read_csv(\"/content/gdrive/MyDrive/GL data/P9/blogtext.csv\", nrows = 50000) #Taking 50000 samples for ease of computation"
      ]
    },
    {
      "cell_type": "markdown",
      "metadata": {
        "id": "D5x1vP75FBtE"
      },
      "source": [
        "Data cleansing by removing unwanted characters, spaces, stop words etc. Convert text to lowercase"
      ]
    },
    {
      "cell_type": "code",
      "execution_count": null,
      "metadata": {
        "id": "K9xf2K6hB5uE"
      },
      "outputs": [],
      "source": [
        "# remove unwanted characters but keep the alphanum\n",
        "pattern = \"[^\\w ]\"\n",
        "sample_df.text = sample_df.text.apply(lambda s : re.sub(pattern,\"\",s))"
      ]
    },
    {
      "cell_type": "code",
      "execution_count": null,
      "metadata": {
        "id": "SVtgf8bcC0BR"
      },
      "outputs": [],
      "source": [
        "#covert all texts in text columns into lower case\n",
        "sample_df.text = sample_df.text.apply(lambda s: s.lower())"
      ]
    },
    {
      "cell_type": "code",
      "execution_count": null,
      "metadata": {
        "id": "pS3RaUbuDAXo"
      },
      "outputs": [],
      "source": [
        "#remove unwanted spaces\n",
        "sample_df.text = sample_df.text.apply(lambda s: s.strip())"
      ]
    },
    {
      "cell_type": "code",
      "execution_count": null,
      "metadata": {
        "colab": {
          "base_uri": "https://localhost:8080/"
        },
        "id": "wwraSvJ1DMkq",
        "outputId": "6e401e57-00d6-4832-a1e3-f2b6552fcda0"
      },
      "outputs": [
        {
          "name": "stdout",
          "output_type": "stream",
          "text": [
            "[nltk_data] Downloading package stopwords to /root/nltk_data...\n",
            "[nltk_data]   Unzipping corpora/stopwords.zip.\n"
          ]
        }
      ],
      "source": [
        "#remove stopwords\n",
        "import nltk\n",
        "nltk.download('stopwords')\n",
        "stopwords = set(stopwords.words('english'))\n",
        "sample_df.text = sample_df.text.apply(lambda x: ' '.join([word for word in x.split() if word not in stopwords]))"
      ]
    },
    {
      "cell_type": "code",
      "execution_count": null,
      "metadata": {
        "colab": {
          "base_uri": "https://localhost:8080/",
          "height": 204
        },
        "id": "z3qPc4a3EMeX",
        "outputId": "888d8d90-6ddc-4601-b4e6-c094e7d86379"
      },
      "outputs": [
        {
          "data": {
            "text/html": [
              "<div>\n",
              "<style scoped>\n",
              "    .dataframe tbody tr th:only-of-type {\n",
              "        vertical-align: middle;\n",
              "    }\n",
              "\n",
              "    .dataframe tbody tr th {\n",
              "        vertical-align: top;\n",
              "    }\n",
              "\n",
              "    .dataframe thead th {\n",
              "        text-align: right;\n",
              "    }\n",
              "</style>\n",
              "<table border=\"1\" class=\"dataframe\">\n",
              "  <thead>\n",
              "    <tr style=\"text-align: right;\">\n",
              "      <th></th>\n",
              "      <th>id</th>\n",
              "      <th>gender</th>\n",
              "      <th>age</th>\n",
              "      <th>topic</th>\n",
              "      <th>sign</th>\n",
              "      <th>date</th>\n",
              "      <th>text</th>\n",
              "    </tr>\n",
              "  </thead>\n",
              "  <tbody>\n",
              "    <tr>\n",
              "      <th>0</th>\n",
              "      <td>2059027</td>\n",
              "      <td>male</td>\n",
              "      <td>15</td>\n",
              "      <td>Student</td>\n",
              "      <td>Leo</td>\n",
              "      <td>14,May,2004</td>\n",
              "      <td>info found 100 pages 45 mb pdf files wait unti...</td>\n",
              "    </tr>\n",
              "    <tr>\n",
              "      <th>1</th>\n",
              "      <td>2059027</td>\n",
              "      <td>male</td>\n",
              "      <td>15</td>\n",
              "      <td>Student</td>\n",
              "      <td>Leo</td>\n",
              "      <td>13,May,2004</td>\n",
              "      <td>team members drewes van der laag urllink mail ...</td>\n",
              "    </tr>\n",
              "    <tr>\n",
              "      <th>2</th>\n",
              "      <td>2059027</td>\n",
              "      <td>male</td>\n",
              "      <td>15</td>\n",
              "      <td>Student</td>\n",
              "      <td>Leo</td>\n",
              "      <td>12,May,2004</td>\n",
              "      <td>het kader van kernfusie op aarde maak je eigen...</td>\n",
              "    </tr>\n",
              "    <tr>\n",
              "      <th>3</th>\n",
              "      <td>2059027</td>\n",
              "      <td>male</td>\n",
              "      <td>15</td>\n",
              "      <td>Student</td>\n",
              "      <td>Leo</td>\n",
              "      <td>12,May,2004</td>\n",
              "      <td>testing testing</td>\n",
              "    </tr>\n",
              "    <tr>\n",
              "      <th>4</th>\n",
              "      <td>3581210</td>\n",
              "      <td>male</td>\n",
              "      <td>33</td>\n",
              "      <td>InvestmentBanking</td>\n",
              "      <td>Aquarius</td>\n",
              "      <td>11,June,2004</td>\n",
              "      <td>thanks yahoos toolbar capture urls popupswhich...</td>\n",
              "    </tr>\n",
              "  </tbody>\n",
              "</table>\n",
              "</div>"
            ],
            "text/plain": [
              "        id  ...                                               text\n",
              "0  2059027  ...  info found 100 pages 45 mb pdf files wait unti...\n",
              "1  2059027  ...  team members drewes van der laag urllink mail ...\n",
              "2  2059027  ...  het kader van kernfusie op aarde maak je eigen...\n",
              "3  2059027  ...                                    testing testing\n",
              "4  3581210  ...  thanks yahoos toolbar capture urls popupswhich...\n",
              "\n",
              "[5 rows x 7 columns]"
            ]
          },
          "execution_count": 18,
          "metadata": {
            "tags": []
          },
          "output_type": "execute_result"
        }
      ],
      "source": [
        "#recheck data\n",
        "sample_df.head()"
      ]
    },
    {
      "cell_type": "markdown",
      "metadata": {
        "id": "pV2rg4EbZcvy"
      },
      "source": [
        "Exploratory Data Analysis on Sample"
      ]
    },
    {
      "cell_type": "code",
      "execution_count": null,
      "metadata": {
        "colab": {
          "base_uri": "https://localhost:8080/",
          "height": 111
        },
        "id": "CWYw5o-6ZNcp",
        "outputId": "19d97f62-b4aa-479b-f962-e6cfd5edce98"
      },
      "outputs": [
        {
          "data": {
            "text/html": [
              "<div>\n",
              "<style scoped>\n",
              "    .dataframe tbody tr th:only-of-type {\n",
              "        vertical-align: middle;\n",
              "    }\n",
              "\n",
              "    .dataframe tbody tr th {\n",
              "        vertical-align: top;\n",
              "    }\n",
              "\n",
              "    .dataframe thead th {\n",
              "        text-align: right;\n",
              "    }\n",
              "</style>\n",
              "<table border=\"1\" class=\"dataframe\">\n",
              "  <thead>\n",
              "    <tr style=\"text-align: right;\">\n",
              "      <th></th>\n",
              "      <th>count</th>\n",
              "      <th>mean</th>\n",
              "      <th>std</th>\n",
              "      <th>min</th>\n",
              "      <th>25%</th>\n",
              "      <th>50%</th>\n",
              "      <th>75%</th>\n",
              "      <th>max</th>\n",
              "    </tr>\n",
              "  </thead>\n",
              "  <tbody>\n",
              "    <tr>\n",
              "      <th>id</th>\n",
              "      <td>50000.0</td>\n",
              "      <td>2.388443e+06</td>\n",
              "      <td>1.254200e+06</td>\n",
              "      <td>17944.0</td>\n",
              "      <td>1078077.0</td>\n",
              "      <td>2764903.0</td>\n",
              "      <td>3525620.0</td>\n",
              "      <td>4337133.0</td>\n",
              "    </tr>\n",
              "    <tr>\n",
              "      <th>age</th>\n",
              "      <td>50000.0</td>\n",
              "      <td>2.436214e+01</td>\n",
              "      <td>7.982836e+00</td>\n",
              "      <td>13.0</td>\n",
              "      <td>17.0</td>\n",
              "      <td>24.0</td>\n",
              "      <td>27.0</td>\n",
              "      <td>48.0</td>\n",
              "    </tr>\n",
              "  </tbody>\n",
              "</table>\n",
              "</div>"
            ],
            "text/plain": [
              "       count          mean           std  ...        50%        75%        max\n",
              "id   50000.0  2.388443e+06  1.254200e+06  ...  2764903.0  3525620.0  4337133.0\n",
              "age  50000.0  2.436214e+01  7.982836e+00  ...       24.0       27.0       48.0\n",
              "\n",
              "[2 rows x 8 columns]"
            ]
          },
          "execution_count": 19,
          "metadata": {
            "tags": []
          },
          "output_type": "execute_result"
        }
      ],
      "source": [
        "sample_df.describe(include = [np.number]).T"
      ]
    },
    {
      "cell_type": "code",
      "execution_count": null,
      "metadata": {
        "colab": {
          "base_uri": "https://localhost:8080/"
        },
        "id": "pIzUFqNqZlEY",
        "outputId": "9f9a5d9d-8d96-427e-8b66-b9af61c2d89e"
      },
      "outputs": [
        {
          "name": "stdout",
          "output_type": "stream",
          "text": [
            "17    6859\n",
            "24    5746\n",
            "23    5518\n",
            "16    4156\n",
            "27    4094\n",
            "15    3508\n",
            "35    3365\n",
            "26    2869\n",
            "25    2837\n",
            "14    2043\n",
            "36    1985\n",
            "34    1886\n",
            "33    1654\n",
            "13     745\n",
            "39     412\n",
            "41     394\n",
            "46     330\n",
            "48     318\n",
            "37     310\n",
            "47     206\n",
            "38     196\n",
            "40     192\n",
            "43     150\n",
            "42      96\n",
            "45      93\n",
            "44      38\n",
            "Name: age, dtype: int64\n"
          ]
        }
      ],
      "source": [
        "print(sample_df.age.value_counts())"
      ]
    },
    {
      "cell_type": "code",
      "execution_count": null,
      "metadata": {
        "colab": {
          "base_uri": "https://localhost:8080/",
          "height": 204
        },
        "id": "57XSmielZrYg",
        "outputId": "42d35a6d-15a9-4be2-ec06-e4bfaf1c8859"
      },
      "outputs": [
        {
          "data": {
            "text/html": [
              "<div>\n",
              "<style scoped>\n",
              "    .dataframe tbody tr th:only-of-type {\n",
              "        vertical-align: middle;\n",
              "    }\n",
              "\n",
              "    .dataframe tbody tr th {\n",
              "        vertical-align: top;\n",
              "    }\n",
              "\n",
              "    .dataframe thead th {\n",
              "        text-align: right;\n",
              "    }\n",
              "</style>\n",
              "<table border=\"1\" class=\"dataframe\">\n",
              "  <thead>\n",
              "    <tr style=\"text-align: right;\">\n",
              "      <th></th>\n",
              "      <th>count</th>\n",
              "      <th>unique</th>\n",
              "      <th>top</th>\n",
              "      <th>freq</th>\n",
              "    </tr>\n",
              "  </thead>\n",
              "  <tbody>\n",
              "    <tr>\n",
              "      <th>gender</th>\n",
              "      <td>50000</td>\n",
              "      <td>2</td>\n",
              "      <td>male</td>\n",
              "      <td>25815</td>\n",
              "    </tr>\n",
              "    <tr>\n",
              "      <th>topic</th>\n",
              "      <td>50000</td>\n",
              "      <td>40</td>\n",
              "      <td>indUnk</td>\n",
              "      <td>17560</td>\n",
              "    </tr>\n",
              "    <tr>\n",
              "      <th>sign</th>\n",
              "      <td>50000</td>\n",
              "      <td>12</td>\n",
              "      <td>Aries</td>\n",
              "      <td>7795</td>\n",
              "    </tr>\n",
              "    <tr>\n",
              "      <th>date</th>\n",
              "      <td>50000</td>\n",
              "      <td>1180</td>\n",
              "      <td>05,August,2004</td>\n",
              "      <td>2600</td>\n",
              "    </tr>\n",
              "    <tr>\n",
              "      <th>text</th>\n",
              "      <td>50000</td>\n",
              "      <td>49008</td>\n",
              "      <td></td>\n",
              "      <td>203</td>\n",
              "    </tr>\n",
              "  </tbody>\n",
              "</table>\n",
              "</div>"
            ],
            "text/plain": [
              "        count unique             top   freq\n",
              "gender  50000      2            male  25815\n",
              "topic   50000     40          indUnk  17560\n",
              "sign    50000     12           Aries   7795\n",
              "date    50000   1180  05,August,2004   2600\n",
              "text    50000  49008                    203"
            ]
          },
          "execution_count": 21,
          "metadata": {
            "tags": []
          },
          "output_type": "execute_result"
        }
      ],
      "source": [
        "sample_df.describe(include = [np.object]).T"
      ]
    },
    {
      "cell_type": "code",
      "execution_count": null,
      "metadata": {
        "colab": {
          "base_uri": "https://localhost:8080/"
        },
        "id": "hOcNvo5CZ1eJ",
        "outputId": "fd2649e4-f6cf-4b05-94b3-71419b836ba7"
      },
      "outputs": [
        {
          "data": {
            "text/plain": [
              "Index          128\n",
              "id          400000\n",
              "gender     3098370\n",
              "age         400000\n",
              "topic      3246913\n",
              "sign       3170411\n",
              "date       3503955\n",
              "text      37719548\n",
              "dtype: int64"
            ]
          },
          "execution_count": 22,
          "metadata": {
            "tags": []
          },
          "output_type": "execute_result"
        }
      ],
      "source": [
        "## memory analysis\n",
        "\n",
        "sample_df.memory_usage(deep=True)"
      ]
    },
    {
      "cell_type": "code",
      "execution_count": null,
      "metadata": {
        "colab": {
          "base_uri": "https://localhost:8080/"
        },
        "id": "NUvzx4YGaFK-",
        "outputId": "219b1aa2-48dd-4de4-96fa-65daf15a53fb"
      },
      "outputs": [
        {
          "data": {
            "text/plain": [
              "male      25815\n",
              "female    24185\n",
              "Name: gender, dtype: int64"
            ]
          },
          "execution_count": 23,
          "metadata": {
            "tags": []
          },
          "output_type": "execute_result"
        }
      ],
      "source": [
        "sample_df.gender.value_counts()"
      ]
    },
    {
      "cell_type": "code",
      "execution_count": null,
      "metadata": {
        "colab": {
          "base_uri": "https://localhost:8080/",
          "height": 481
        },
        "id": "sgMEH03_aI0G",
        "outputId": "17a63fab-77e7-42f2-cabc-a3c7d6257144"
      },
      "outputs": [
        {
          "data": {
            "text/plain": [
              "<matplotlib.axes._subplots.AxesSubplot at 0x7fd2840bb090>"
            ]
          },
          "execution_count": 24,
          "metadata": {
            "tags": []
          },
          "output_type": "execute_result"
        },
        {
          "data": {
            "image/png": "[encoded data removed]",
            "text/plain": [
              "<Figure size 2160x720 with 1 Axes>"
            ]
          },
          "metadata": {
            "tags": []
          },
          "output_type": "display_data"
        }
      ],
      "source": [
        "sns.countplot(x=\"age\", data=sample_df)"
      ]
    },
    {
      "cell_type": "code",
      "execution_count": null,
      "metadata": {
        "colab": {
          "base_uri": "https://localhost:8080/",
          "height": 469
        },
        "id": "IvOWE9CLaRUm",
        "outputId": "6382a3f4-c636-4eb1-b7a1-319113ef142d"
      },
      "outputs": [
        {
          "data": {
            "image/png": "[encoded data removed]",
            "text/plain": [
              "<Figure size 2160x720 with 1 Axes>"
            ]
          },
          "metadata": {
            "tags": []
          },
          "output_type": "display_data"
        }
      ],
      "source": [
        "ax = sns.countplot(x=\"age\", hue=\"gender\", data=sample_df)\n",
        "ax.xaxis.set_tick_params(rotation=45);"
      ]
    },
    {
      "cell_type": "code",
      "execution_count": null,
      "metadata": {
        "colab": {
          "base_uri": "https://localhost:8080/",
          "height": 533
        },
        "id": "-KSOPvOQaiZd",
        "outputId": "6bf3767c-b45e-4bfb-dc04-77eb29e95a2e"
      },
      "outputs": [
        {
          "data": {
            "image/png": "[encoded data removed]",
            "text/plain": [
              "<Figure size 2160x720 with 1 Axes>"
            ]
          },
          "metadata": {
            "tags": []
          },
          "output_type": "display_data"
        }
      ],
      "source": [
        "ax = sns.countplot(x=\"topic\", hue=\"gender\", data=sample_df)\n",
        "ax.xaxis.set_tick_params(rotation=45);"
      ]
    },
    {
      "cell_type": "markdown",
      "metadata": {
        "id": "A2qVn_IACTX4"
      },
      "source": [
        "Target/Label Merger and Transformation"
      ]
    },
    {
      "cell_type": "code",
      "execution_count": null,
      "metadata": {
        "id": "ZDKhFC_nE4jN"
      },
      "outputs": [],
      "source": [
        "sample_df['age'] = sample_df['age'].astype(str)\n",
        "sample_df['labels'] = sample_df.apply(lambda col : [col['gender'],col['age'],col['topic'],col['sign']], axis=1)"
      ]
    },
    {
      "cell_type": "code",
      "execution_count": null,
      "metadata": {
        "id": "7_jnBoHPE8M3"
      },
      "outputs": [],
      "source": [
        "#drop the columns which were merged to form the label column\n",
        "sample_df.drop(columns=['gender','age','topic','sign', 'id', 'date'], axis=1, inplace=True)"
      ]
    },
    {
      "cell_type": "code",
      "execution_count": null,
      "metadata": {
        "colab": {
          "base_uri": "https://localhost:8080/",
          "height": 204
        },
        "id": "5MVY2YsdDNxT",
        "outputId": "27c63dfe-c5fe-4a8e-a492-17de63023279"
      },
      "outputs": [
        {
          "data": {
            "text/html": [
              "<div>\n",
              "<style scoped>\n",
              "    .dataframe tbody tr th:only-of-type {\n",
              "        vertical-align: middle;\n",
              "    }\n",
              "\n",
              "    .dataframe tbody tr th {\n",
              "        vertical-align: top;\n",
              "    }\n",
              "\n",
              "    .dataframe thead th {\n",
              "        text-align: right;\n",
              "    }\n",
              "</style>\n",
              "<table border=\"1\" class=\"dataframe\">\n",
              "  <thead>\n",
              "    <tr style=\"text-align: right;\">\n",
              "      <th></th>\n",
              "      <th>text</th>\n",
              "      <th>labels</th>\n",
              "    </tr>\n",
              "  </thead>\n",
              "  <tbody>\n",
              "    <tr>\n",
              "      <th>0</th>\n",
              "      <td>info found 100 pages 45 mb pdf files wait unti...</td>\n",
              "      <td>[male, 15, Student, Leo]</td>\n",
              "    </tr>\n",
              "    <tr>\n",
              "      <th>1</th>\n",
              "      <td>team members drewes van der laag urllink mail ...</td>\n",
              "      <td>[male, 15, Student, Leo]</td>\n",
              "    </tr>\n",
              "    <tr>\n",
              "      <th>2</th>\n",
              "      <td>het kader van kernfusie op aarde maak je eigen...</td>\n",
              "      <td>[male, 15, Student, Leo]</td>\n",
              "    </tr>\n",
              "    <tr>\n",
              "      <th>3</th>\n",
              "      <td>testing testing</td>\n",
              "      <td>[male, 15, Student, Leo]</td>\n",
              "    </tr>\n",
              "    <tr>\n",
              "      <th>4</th>\n",
              "      <td>thanks yahoos toolbar capture urls popupswhich...</td>\n",
              "      <td>[male, 33, InvestmentBanking, Aquarius]</td>\n",
              "    </tr>\n",
              "  </tbody>\n",
              "</table>\n",
              "</div>"
            ],
            "text/plain": [
              "                                                text                                   labels\n",
              "0  info found 100 pages 45 mb pdf files wait unti...                 [male, 15, Student, Leo]\n",
              "1  team members drewes van der laag urllink mail ...                 [male, 15, Student, Leo]\n",
              "2  het kader van kernfusie op aarde maak je eigen...                 [male, 15, Student, Leo]\n",
              "3                                    testing testing                 [male, 15, Student, Leo]\n",
              "4  thanks yahoos toolbar capture urls popupswhich...  [male, 33, InvestmentBanking, Aquarius]"
            ]
          },
          "execution_count": 29,
          "metadata": {
            "tags": []
          },
          "output_type": "execute_result"
        }
      ],
      "source": [
        "sample_df.head()"
      ]
    },
    {
      "cell_type": "markdown",
      "metadata": {
        "id": "uAPxW_z4Fpo9"
      },
      "source": [
        "Train and test split"
      ]
    },
    {
      "cell_type": "code",
      "execution_count": null,
      "metadata": {
        "id": "wmuYNKNiFfvK"
      },
      "outputs": [],
      "source": [
        "X= sample_df.text\n",
        "y = sample_df.labels\n",
        "X_train, X_test, y_train, y_test = train_test_split(X, y, random_state=42, test_size = 0.2)"
      ]
    },
    {
      "cell_type": "code",
      "execution_count": null,
      "metadata": {
        "colab": {
          "base_uri": "https://localhost:8080/"
        },
        "id": "ouOmFOK8bGyO",
        "outputId": "93acbc77-91e0-4c11-eba6-dec1688b7c41"
      },
      "outputs": [
        {
          "name": "stdout",
          "output_type": "stream",
          "text": [
            "shape of training set : (40000,)\n",
            "shape of test set : (10000,)\n"
          ]
        }
      ],
      "source": [
        "print(\"shape of training set :\", X_train.shape)\n",
        "print(\"shape of test set :\", X_test.shape)"
      ]
    },
    {
      "cell_type": "code",
      "execution_count": null,
      "metadata": {
        "colab": {
          "base_uri": "https://localhost:8080/",
          "height": 137
        },
        "id": "IvhBxjCh85Y0",
        "outputId": "ece1db6d-c5ff-45bd-d6e7-669f93abdf28"
      },
      "outputs": [
        {
          "data": {
            "application/vnd.google.colaboratory.intrinsic+json": {
              "type": "string"
            },
            "text/plain": [
              "'interesting conversation dad morning talking koreans put money invariably lot real estate cash cash would include short term investments one year well savings accounts reason real estate makes money lot money ive seen surveys seoul real estate rising 1015 per year long stretches even taking account 1997 crisis referred imf crisis although imf bailed korea compare korean corporate bonds fell 9099 1997 modestly recovered local stock market represented kospi version dow jones index gone appreciably 1980s high 1000 points 800 points see urllink link see real estate makes sense back conversationi noted real big elite real estate investor 6 billion usd 5000000 see urllink converter properties dad seemed little flabbergasted heck need 5 million dollars dont need much retire maybe lot risk take real estate south korean asset example north toots horn louder make move country 5000000 usd worth 5 cents also denominated imf crisis dropped 50 visavis usd also make bad investment fall victim scamthe latest urllink good morning city projectyoure toast saw lady tv lost everything comment tears know like go rich person beggar one day one saberrattling north korea weak exchange rate little nest egg could almost wiped government almost zero help unemployed disabled otherwise disenfranchised workers role family important hereso money help family dont go first thus idea koreans go things investing different one apartment 7 urllink jeonse system supports well see 400000 usd apartment rent two systems use korea neither western ones except rare circumstances 1 renter signs 2year contract deposits half market value 200000 usd owner monthly rent paid owner invest korean treasury bills 45 per year thats monthly rentreturn 750 end term 200000 usd returned renter 2 renter signs 1year 2year contract deposits 1020 market value property 1000020000 usd plus monthly rent 400600 month cases value property increases decreases jeonse need toppedup partially refunded course im using usd save 0 key help foreigners reference better thus buy place 400000 turn around rent get 200000 like buy another place whatever since mortgages korea kind cash society although homeequity lines credit system bit different key course real estate prices keep going'"
            ]
          },
          "execution_count": 32,
          "metadata": {
            "tags": []
          },
          "output_type": "execute_result"
        }
      ],
      "source": [
        "X_train[5]"
      ]
    },
    {
      "cell_type": "code",
      "execution_count": null,
      "metadata": {
        "colab": {
          "base_uri": "https://localhost:8080/"
        },
        "id": "X_35Mf-d8-NK",
        "outputId": "aac64933-8e0f-4704-d6a2-861c297f7770"
      },
      "outputs": [
        {
          "data": {
            "text/plain": [
              "['male', '33', 'InvestmentBanking', 'Aquarius']"
            ]
          },
          "execution_count": 33,
          "metadata": {
            "tags": []
          },
          "output_type": "execute_result"
        }
      ],
      "source": [
        "y_train[5]"
      ]
    },
    {
      "cell_type": "markdown",
      "metadata": {
        "id": "DgcmmDWvGbj9"
      },
      "source": [
        "Vectorisation"
      ]
    },
    {
      "cell_type": "markdown",
      "metadata": {
        "id": "4HM7AxJNbdER"
      },
      "source": [
        "Count Vectorizer on Bag of Words"
      ]
    },
    {
      "cell_type": "code",
      "execution_count": null,
      "metadata": {
        "id": "WF8YeggUbm_7"
      },
      "outputs": [],
      "source": [
        "ctv = CountVectorizer(analyzer='word', token_pattern=r'\\w{1,}', \n",
        "                      ngram_range=(1, 3), stop_words = 'english')\n",
        "corpus = list(X_train)+list(X_test)"
      ]
    },
    {
      "cell_type": "code",
      "execution_count": null,
      "metadata": {
        "colab": {
          "base_uri": "https://localhost:8080/"
        },
        "id": "2PS4I0dtbsWj",
        "outputId": "89a7e149-8513-4c63-d058-69f7a585510d"
      },
      "outputs": [
        {
          "data": {
            "text/plain": [
              "CountVectorizer(analyzer='word', binary=False, decode_error='strict',\n",
              "                dtype=<class 'numpy.int64'>, encoding='utf-8', input='content',\n",
              "                lowercase=True, max_df=1.0, max_features=None, min_df=1,\n",
              "                ngram_range=(1, 3), preprocessor=None, stop_words='english',\n",
              "                strip_accents=None, token_pattern='\\\\w{1,}', tokenizer=None,\n",
              "                vocabulary=None)"
            ]
          },
          "execution_count": 35,
          "metadata": {
            "tags": []
          },
          "output_type": "execute_result"
        }
      ],
      "source": [
        "ctv.fit(corpus)"
      ]
    },
    {
      "cell_type": "code",
      "execution_count": null,
      "metadata": {
        "id": "qClhgO6ibwOK"
      },
      "outputs": [],
      "source": [
        "xtrain_ctv = ctv.transform(X_train)"
      ]
    },
    {
      "cell_type": "code",
      "execution_count": null,
      "metadata": {
        "id": "azEt4Bjub26G"
      },
      "outputs": [],
      "source": [
        "xtest_ctv = ctv.transform(X_test)"
      ]
    },
    {
      "cell_type": "code",
      "execution_count": null,
      "metadata": {
        "colab": {
          "base_uri": "https://localhost:8080/"
        },
        "id": "HMaFlqDvb4AP",
        "outputId": "a0389af1-5199-450c-afc3-9ee84124155e"
      },
      "outputs": [
        {
          "name": "stdout",
          "output_type": "stream",
          "text": [
            "7317901\n"
          ]
        }
      ],
      "source": [
        "print(len(ctv.vocabulary_))"
      ]
    },
    {
      "cell_type": "code",
      "execution_count": null,
      "metadata": {
        "colab": {
          "base_uri": "https://localhost:8080/"
        },
        "id": "0Yn2LBsLb7Hl",
        "outputId": "dc4c0351-dd1a-4cd8-abea-80283acf1bd1"
      },
      "outputs": [
        {
          "data": {
            "text/plain": [
              "['0',\n",
              " '0 0',\n",
              " '0 0 0',\n",
              " '0 0 1',\n",
              " '0 0 ___',\n",
              " '0 0 draw',\n",
              " '0 0 h',\n",
              " '0 0 italy',\n",
              " '0 0 switzerland',\n",
              " '0 0 theos']"
            ]
          },
          "execution_count": 39,
          "metadata": {
            "tags": []
          },
          "output_type": "execute_result"
        }
      ],
      "source": [
        "ctv.get_feature_names()[:10]"
      ]
    },
    {
      "cell_type": "markdown",
      "metadata": {
        "id": "OS5fPMSZcE83"
      },
      "source": [
        "TF-IDF (Term Frequency - Inverse Document Frequency)"
      ]
    },
    {
      "cell_type": "code",
      "execution_count": null,
      "metadata": {
        "id": "NpAWyGs-cEQl"
      },
      "outputs": [],
      "source": [
        "tfv = TfidfVectorizer(min_df=3,  max_features=None, \n",
        "                      strip_accents='unicode', analyzer='word',token_pattern=r'\\w{1,}',\n",
        "                      ngram_range=(1, 3), use_idf=1,smooth_idf=1,sublinear_tf=1,\n",
        "                      stop_words = 'english')\n",
        "\n",
        "\n",
        "#Fitting TF-IDF to both training and test sets (semi-supervised learning)\n",
        "tfv.fit(list(X_train) + list(X_test))\n",
        "xtrain_tfv =  tfv.transform(X_train) \n",
        "xvalid_tfv = tfv.transform(X_test)"
      ]
    },
    {
      "cell_type": "markdown",
      "metadata": {
        "id": "I4BQXoGrcmWp"
      },
      "source": [
        "Create a dictionary for the count of every label"
      ]
    },
    {
      "cell_type": "code",
      "execution_count": null,
      "metadata": {
        "colab": {
          "base_uri": "https://localhost:8080/"
        },
        "id": "iVdZAuSZchbJ",
        "outputId": "7b6bc7af-a05d-4be7-fd84-3aea0ace5462"
      },
      "outputs": [
        {
          "data": {
            "text/plain": [
              "{'13': 745,\n",
              " '14': 2043,\n",
              " '15': 3508,\n",
              " '16': 4156,\n",
              " '17': 6859,\n",
              " '23': 5518,\n",
              " '24': 5746,\n",
              " '25': 2837,\n",
              " '26': 2869,\n",
              " '27': 4094,\n",
              " '33': 1654,\n",
              " '34': 1886,\n",
              " '35': 3365,\n",
              " '36': 1985,\n",
              " '37': 310,\n",
              " '38': 196,\n",
              " '39': 412,\n",
              " '40': 192,\n",
              " '41': 394,\n",
              " '42': 96,\n",
              " '43': 150,\n",
              " '44': 38,\n",
              " '45': 93,\n",
              " '46': 330,\n",
              " '47': 206,\n",
              " '48': 318,\n",
              " 'Accounting': 364,\n",
              " 'Advertising': 273,\n",
              " 'Agriculture': 78,\n",
              " 'Aquarius': 4784,\n",
              " 'Architecture': 70,\n",
              " 'Aries': 7795,\n",
              " 'Arts': 1817,\n",
              " 'Automotive': 116,\n",
              " 'Banking': 283,\n",
              " 'Biotech': 101,\n",
              " 'BusinessServices': 416,\n",
              " 'Cancer': 4589,\n",
              " 'Capricorn': 3819,\n",
              " 'Chemicals': 75,\n",
              " 'Communications-Media': 1603,\n",
              " 'Construction': 28,\n",
              " 'Consulting': 243,\n",
              " 'Education': 2646,\n",
              " 'Engineering': 1402,\n",
              " 'Environment': 6,\n",
              " 'Fashion': 1805,\n",
              " 'Gemini': 2558,\n",
              " 'Government': 599,\n",
              " 'HumanResources': 79,\n",
              " 'Internet': 1420,\n",
              " 'InvestmentBanking': 85,\n",
              " 'Law': 308,\n",
              " 'LawEnforcement-Security': 125,\n",
              " 'Leo': 3904,\n",
              " 'Libra': 4378,\n",
              " 'Manufacturing': 441,\n",
              " 'Maritime': 54,\n",
              " 'Marketing': 414,\n",
              " 'Military': 194,\n",
              " 'Museums-Libraries': 285,\n",
              " 'Non-Profit': 491,\n",
              " 'Pisces': 4142,\n",
              " 'Publishing': 207,\n",
              " 'RealEstate': 17,\n",
              " 'Religion': 258,\n",
              " 'Sagittarius': 4571,\n",
              " 'Science': 705,\n",
              " 'Scorpio': 3243,\n",
              " 'Sports-Recreation': 120,\n",
              " 'Student': 10660,\n",
              " 'Taurus': 3390,\n",
              " 'Technology': 4379,\n",
              " 'Telecommunications': 12,\n",
              " 'Tourism': 65,\n",
              " 'Transportation': 196,\n",
              " 'Virgo': 2827,\n",
              " 'female': 24185,\n",
              " 'indUnk': 17560,\n",
              " 'male': 25815}"
            ]
          },
          "execution_count": 41,
          "metadata": {
            "tags": []
          },
          "output_type": "execute_result"
        }
      ],
      "source": [
        "label_counts=dict()\n",
        "\n",
        "for labels in sample_df.labels.values:\n",
        "    for label in labels:\n",
        "        if label in label_counts:\n",
        "            label_counts[str(label)]+=1\n",
        "        else:\n",
        "            label_counts[str(label)]=1\n",
        "        \n",
        "label_counts"
      ]
    },
    {
      "cell_type": "markdown",
      "metadata": {
        "id": "NO9hkRdHdJ9V"
      },
      "source": [
        "Use Multilabel Binerizer to Transform the Labels"
      ]
    },
    {
      "cell_type": "code",
      "execution_count": null,
      "metadata": {
        "id": "s1zz2SgmdBAP"
      },
      "outputs": [],
      "source": [
        "# Transform between iterable of iterables and a multilabel format\n",
        "# Transform labels in a binary form and the prediction will be a mask of 0s and 1s\n",
        "binarizer=MultiLabelBinarizer(classes=sorted(label_counts.keys()))\n",
        "\n",
        "\n",
        "y_train = binarizer.fit_transform(y_train)\n",
        "y_test = binarizer.transform(y_test)"
      ]
    },
    {
      "cell_type": "code",
      "execution_count": null,
      "metadata": {
        "id": "Zknq_So8dSxx"
      },
      "outputs": [],
      "source": [
        "# Using pipeline for applying logistic regression and one vs rest classifier\n",
        "LogReg_pipeline = Pipeline([\n",
        "                ('clf', OneVsRestClassifier(LogisticRegression(solver='sag'),\n",
        "                    n_jobs=-1)),])\n",
        "LogReg_pipeline.fit(xtrain_ctv, y_train)\n",
        "\n",
        "Y_predicted_oneVsRest = LogReg_pipeline.predict(xtest_ctv)"
      ]
    },
    {
      "cell_type": "markdown",
      "metadata": {
        "id": "iAFqN1LWeblo"
      },
      "source": [
        "Model Evaluation"
      ]
    },
    {
      "cell_type": "code",
      "execution_count": null,
      "metadata": {
        "id": "YgmUjKtn0a5v"
      },
      "outputs": [],
      "source": [
        "from sklearn.metrics import accuracy_score\n",
        "from sklearn.metrics import f1_score\n",
        "from sklearn.metrics import average_precision_score\n",
        "from sklearn.metrics import recall_score"
      ]
    },
    {
      "cell_type": "code",
      "execution_count": null,
      "metadata": {
        "id": "dy9hgFH2edf0"
      },
      "outputs": [],
      "source": [
        "def display_metrics_micro(Ytest, Ypred):\n",
        "    print('Accuracy score: ', accuracy_score(Ytest, Ypred))\n",
        "    print('F1 score: Micro', f1_score(Ytest, Ypred, average='micro'))\n",
        "    print('Average precision score: Micro', average_precision_score(Ytest, Ypred, average='micro'))\n",
        "    print('Average recall score: Micro', recall_score(Ytest, Ypred, average='micro'))\n",
        "    \n",
        "    \n",
        "def display_metrics_macro(Ytest, Ypred):\n",
        "    print('Accuracy score: ', accuracy_score(Ytest, Ypred))\n",
        "    print('F1 score: Macro', f1_score(Ytest, Ypred, average='macro'))\n",
        "    print('Average recall score: MAcro', recall_score(Ytest, Ypred, average='macro'))\n",
        "    \n",
        "def display_metrics_weighted(Ytest, Ypred):\n",
        "    print('Accuracy score: ', accuracy_score(Ytest, Ypred))\n",
        "    print('F1 score: weighted', f1_score(Ytest, Ypred, average='weighted'))\n",
        "    print('Average precision score: weighted', average_precision_score(Ytest, Ypred, average='weighted'))\n",
        "    print('Average recall score: weighted', recall_score(Ytest, Ypred, average='weighted'))"
      ]
    },
    {
      "cell_type": "code",
      "execution_count": null,
      "metadata": {
        "colab": {
          "base_uri": "https://localhost:8080/"
        },
        "id": "S_aBt_r-ei_h",
        "outputId": "719b038f-ae1a-4ab0-9639-869b0b754319"
      },
      "outputs": [
        {
          "name": "stdout",
          "output_type": "stream",
          "text": [
            "Accuracy score:  0.0019\n",
            "F1 score: Micro 0.24813410496906804\n",
            "Average precision score: Micro 0.13780513229475766\n",
            "Average recall score: Micro 0.155425\n"
          ]
        }
      ],
      "source": [
        "display_metrics_micro(y_test,Y_predicted_oneVsRest)"
      ]
    },
    {
      "cell_type": "code",
      "execution_count": null,
      "metadata": {
        "colab": {
          "base_uri": "https://localhost:8080/"
        },
        "id": "6ykORnwoejjU",
        "outputId": "e520ffa0-96eb-46b8-c154-80165d626cc7"
      },
      "outputs": [
        {
          "name": "stdout",
          "output_type": "stream",
          "text": [
            "Accuracy score:  0.0019\n",
            "F1 score: Macro 0.017693310859633805\n",
            "Average recall score: MAcro 0.016695277935143405\n"
          ]
        }
      ],
      "source": [
        "display_metrics_macro(y_test,Y_predicted_oneVsRest)"
      ]
    },
    {
      "cell_type": "code",
      "execution_count": null,
      "metadata": {
        "colab": {
          "base_uri": "https://localhost:8080/"
        },
        "id": "ga71CCfBelk_",
        "outputId": "fead519d-2d70-45e9-a92b-6621c3276c9a"
      },
      "outputs": [
        {
          "name": "stdout",
          "output_type": "stream",
          "text": [
            "Accuracy score:  0.0019\n",
            "F1 score: weighted 0.1560923804384003\n",
            "Average precision score: weighted 0.23364042035080002\n",
            "Average recall score: weighted 0.155425\n"
          ]
        }
      ],
      "source": [
        "display_metrics_weighted(y_test,Y_predicted_oneVsRest)"
      ]
    },
    {
      "cell_type": "markdown",
      "metadata": {
        "id": "crEFCoQZesxB"
      },
      "source": [
        "Check for any 5 inputs and there predicted labels"
      ]
    },
    {
      "cell_type": "code",
      "execution_count": null,
      "metadata": {
        "id": "-56bmgnGen8M"
      },
      "outputs": [],
      "source": [
        "import random \n",
        "\n",
        "def print_predicted(y_predicted, y_test = y_test , n = 5):\n",
        "    j = []\n",
        "    for i in range(n):\n",
        "        j.append(random.randint(0, len(y_test)))\n",
        "    print(j)\n",
        "                 \n",
        "    for k in j:\n",
        "        print(binarizer.inverse_transform(y_predicted)[k])\n",
        "        print(binarizer.inverse_transform(y_test)[k])\n",
        "        print(\"_____________________________________\")"
      ]
    },
    {
      "cell_type": "code",
      "execution_count": null,
      "metadata": {
        "colab": {
          "base_uri": "https://localhost:8080/"
        },
        "id": "eI4UPnPle3ug",
        "outputId": "cc5e3437-0176-4690-e28d-30335ce65b42"
      },
      "outputs": [
        {
          "name": "stdout",
          "output_type": "stream",
          "text": [
            "[5464, 1761, 7155, 3582, 4467, 4143, 8323, 8769, 531, 3144]\n",
            "('male',)\n",
            "('23', 'BusinessServices', 'Cancer', 'female')\n",
            "_____________________________________\n",
            "('male',)\n",
            "('16', 'Gemini', 'Student', 'male')\n",
            "_____________________________________\n",
            "('male',)\n",
            "('16', 'Sagittarius', 'indUnk', 'male')\n",
            "_____________________________________\n",
            "('female',)\n",
            "('26', 'BusinessServices', 'Leo', 'female')\n",
            "_____________________________________\n",
            "('female',)\n",
            "('17', 'Capricorn', 'Student', 'male')\n",
            "_____________________________________\n",
            "('female',)\n",
            "('23', 'Communications-Media', 'Leo', 'female')\n",
            "_____________________________________\n",
            "('female',)\n",
            "('16', 'Gemini', 'female', 'indUnk')\n",
            "_____________________________________\n",
            "('male',)\n",
            "('17', 'Scorpio', 'female', 'indUnk')\n",
            "_____________________________________\n",
            "('female',)\n",
            "('17', 'Capricorn', 'Sports-Recreation', 'male')\n",
            "_____________________________________\n",
            "('male',)\n",
            "('48', 'Aries', 'Communications-Media', 'male')\n",
            "_____________________________________\n"
          ]
        }
      ],
      "source": [
        "print_predicted(y_predicted=Y_predicted_oneVsRest,y_test=y_test, n= 10)"
      ]
    },
    {
      "cell_type": "markdown",
      "metadata": {
        "id": "k7whMBhxUpvN"
      },
      "source": [
        "Demonstration of input data preparation for neural network classifier"
      ]
    },
    {
      "cell_type": "code",
      "execution_count": null,
      "metadata": {
        "colab": {
          "base_uri": "https://localhost:8080/",
          "height": 446
        },
        "id": "BzczNucSVEo_",
        "outputId": "e023e8f5-74af-445c-b8dc-94d1702d5798"
      },
      "outputs": [
        {
          "name": "stdout",
          "output_type": "stream",
          "text": [
            "Collecting imbalanced-learn\n",
            "\u001b[?25l  Downloading https://files.pythonhosted.org/packages/80/98/dc784205a7e3034e84d41ac4781660c67ad6327f2f5a80c568df31673d1c/imbalanced_learn-0.8.0-py3-none-any.whl (206kB)\n",
            "\u001b[K     |████████████████████████████████| 215kB 6.3MB/s \n",
            "\u001b[?25hRequirement already satisfied, skipping upgrade: joblib>=0.11 in /usr/local/lib/python3.7/dist-packages (from imbalanced-learn) (1.0.1)\n",
            "Requirement already satisfied, skipping upgrade: numpy>=1.13.3 in /usr/local/lib/python3.7/dist-packages (from imbalanced-learn) (1.19.5)\n",
            "Collecting scikit-learn>=0.24\n",
            "\u001b[?25l  Downloading https://files.pythonhosted.org/packages/a8/eb/a48f25c967526b66d5f1fa7a984594f0bf0a5afafa94a8c4dbc317744620/scikit_learn-0.24.2-cp37-cp37m-manylinux2010_x86_64.whl (22.3MB)\n",
            "\u001b[K     |████████████████████████████████| 22.3MB 1.3MB/s \n",
            "\u001b[?25hRequirement already satisfied, skipping upgrade: scipy>=0.19.1 in /usr/local/lib/python3.7/dist-packages (from imbalanced-learn) (1.4.1)\n",
            "Collecting threadpoolctl>=2.0.0\n",
            "  Downloading https://files.pythonhosted.org/packages/f7/12/ec3f2e203afa394a149911729357aa48affc59c20e2c1c8297a60f33f133/threadpoolctl-2.1.0-py3-none-any.whl\n",
            "Installing collected packages: threadpoolctl, scikit-learn, imbalanced-learn\n",
            "  Found existing installation: scikit-learn 0.22.2.post1\n",
            "    Uninstalling scikit-learn-0.22.2.post1:\n",
            "      Successfully uninstalled scikit-learn-0.22.2.post1\n",
            "  Found existing installation: imbalanced-learn 0.4.3\n",
            "    Uninstalling imbalanced-learn-0.4.3:\n",
            "      Successfully uninstalled imbalanced-learn-0.4.3\n",
            "Successfully installed imbalanced-learn-0.8.0 scikit-learn-0.24.2 threadpoolctl-2.1.0\n"
          ]
        },
        {
          "data": {
            "application/vnd.colab-display-data+json": {
              "pip_warning": {
                "packages": [
                  "sklearn"
                ]
              }
            }
          },
          "metadata": {
            "tags": []
          },
          "output_type": "display_data"
        }
      ],
      "source": [
        "pip install -U imbalanced-learn"
      ]
    },
    {
      "cell_type": "code",
      "execution_count": null,
      "metadata": {
        "colab": {
          "base_uri": "https://localhost:8080/"
        },
        "id": "_brmA4OIU0Wc",
        "outputId": "eaed9486-dd36-460f-c54d-0c04e30bf65e"
      },
      "outputs": [
        {
          "name": "stdout",
          "output_type": "stream",
          "text": [
            "[nltk_data] Downloading package wordnet to /root/nltk_data...\n",
            "[nltk_data]   Unzipping corpora/wordnet.zip.\n"
          ]
        }
      ],
      "source": [
        "# data manipulation\n",
        "import pandas as pd\n",
        "\n",
        "# library for NLP tasks, \n",
        "from textblob import TextBlob\n",
        "import nltk\n",
        "nltk.download('wordnet')\n",
        "from textblob import Word \n",
        "# bag of words and tf-idf\n",
        "from sklearn.feature_extraction.text import CountVectorizer, TfidfVectorizer"
      ]
    },
    {
      "cell_type": "code",
      "execution_count": null,
      "metadata": {
        "id": "YQJumgxxUeM9"
      },
      "outputs": [],
      "source": [
        "\n",
        "df = pd.read_csv(\"/content/gdrive/MyDrive/GL data/P9/blogtext.csv\")"
      ]
    },
    {
      "cell_type": "code",
      "execution_count": null,
      "metadata": {
        "colab": {
          "base_uri": "https://localhost:8080/"
        },
        "id": "JS3z_pLvVsJm",
        "outputId": "35398c99-c551-4b8f-f338-89fcdf5f56dd"
      },
      "outputs": [
        {
          "data": {
            "text/plain": [
              "(681284, 7)"
            ]
          },
          "execution_count": 55,
          "metadata": {
            "tags": []
          },
          "output_type": "execute_result"
        }
      ],
      "source": [
        "df.shape"
      ]
    },
    {
      "cell_type": "code",
      "execution_count": null,
      "metadata": {
        "id": "QrWZW8SNV1Hn"
      },
      "outputs": [],
      "source": [
        "df.topic = df.topic.astype(str)"
      ]
    },
    {
      "cell_type": "code",
      "execution_count": null,
      "metadata": {
        "id": "hHpRsEB0V5nZ"
      },
      "outputs": [],
      "source": [
        "# datasize is huge. Keeping only few topics which are our target classe \n",
        "# after that perform downsampling to balance the classes\n",
        "df_student = df[ (df.topic == 'Student') ] \n",
        "df_tech =   df[ (df.topic == 'Technology') ]\n",
        "df_arts     = df[(df.topic == 'Arts')]       \n",
        "df_non_profit = df[(df.topic == 'Non-Profit')]\n",
        "df_law = df[df.topic == 'Law']\n",
        "df_gov = df[(df.topic == 'Government')]\n",
        "df_rel = df[(df.topic == 'Religion')]\n",
        "df_fashion = df[(df.topic == 'Fashion')]"
      ]
    },
    {
      "cell_type": "code",
      "execution_count": null,
      "metadata": {
        "id": "RXN-HuIfWCt3"
      },
      "outputs": [],
      "source": [
        "# use resample method from scikit-learn\n",
        "from sklearn.utils import resample\n",
        "\n",
        "df_student = resample(df_student, \n",
        "                      replace=True,    # sample with replacement\n",
        "                      n_samples=5000,     # to match number of values in each class\n",
        "                      random_state=123) # reproducible results\n",
        "\n",
        "df_tech = resample(df_tech, \n",
        "                      replace=True,    # sample with replacement\n",
        "                      n_samples=5000,     # to match number of values in each class\n",
        "                      random_state=123) # reproducible results\n",
        "\n",
        "df_arts = resample(df_arts, \n",
        "                      replace=True,    # sample with replacement\n",
        "                      n_samples=5000,     # to match number of values in each class\n",
        "                      random_state=123) # reproducible results\n",
        "\n",
        "df_non_profit = resample(df_non_profit, \n",
        "                      replace=True,    # sample with replacement\n",
        "                      n_samples=5000,     # to match number of values in each class\n",
        "                      random_state=123) # reproducible results\n",
        "\n",
        "df_law = resample(df_law, \n",
        "                      replace=True,    # sample with replacement\n",
        "                      n_samples=5000,     # to match number of values in each class\n",
        "                      random_state=123) # reproducible results\n",
        "\n",
        "df_gov = resample(df_gov, \n",
        "                      replace=True,    # sample with replacement\n",
        "                      n_samples=5000,     # to match number of values in each class\n",
        "                      random_state=123) # reproducible results\n",
        "\n",
        "df_rel = resample(df_rel, \n",
        "                      replace=True,    # sample with replacement\n",
        "                      n_samples=5000,     # to match number of values in each class\n",
        "                      random_state=123) # reproducible results"
      ]
    },
    {
      "cell_type": "code",
      "execution_count": null,
      "metadata": {
        "colab": {
          "base_uri": "https://localhost:8080/"
        },
        "id": "Rst95l4YWJhL",
        "outputId": "68a07be0-1c14-4930-9e24-3ae077de3051"
      },
      "outputs": [
        {
          "data": {
            "text/plain": [
              "Arts          5000\n",
              "Religion      5000\n",
              "Non-Profit    5000\n",
              "Government    5000\n",
              "Law           5000\n",
              "Student       5000\n",
              "Technology    5000\n",
              "Fashion       4851\n",
              "Name: topic, dtype: int64"
            ]
          },
          "execution_count": 59,
          "metadata": {
            "tags": []
          },
          "output_type": "execute_result"
        }
      ],
      "source": [
        "# Combine all the class with equal number of values\n",
        "df = pd.concat([df_student, df_tech, df_arts, df_non_profit, df_law, df_gov, df_rel, df_fashion ])\n",
        "\n",
        "# check for the class balance\n",
        "df['topic'].value_counts()"
      ]
    },
    {
      "cell_type": "code",
      "execution_count": null,
      "metadata": {
        "colab": {
          "base_uri": "https://localhost:8080/",
          "height": 204
        },
        "id": "30cEVUhgWznR",
        "outputId": "d68f41eb-5ef2-40a7-c135-0707c4e504bb"
      },
      "outputs": [
        {
          "data": {
            "text/html": [
              "<div>\n",
              "<style scoped>\n",
              "    .dataframe tbody tr th:only-of-type {\n",
              "        vertical-align: middle;\n",
              "    }\n",
              "\n",
              "    .dataframe tbody tr th {\n",
              "        vertical-align: top;\n",
              "    }\n",
              "\n",
              "    .dataframe thead th {\n",
              "        text-align: right;\n",
              "    }\n",
              "</style>\n",
              "<table border=\"1\" class=\"dataframe\">\n",
              "  <thead>\n",
              "    <tr style=\"text-align: right;\">\n",
              "      <th></th>\n",
              "      <th>id</th>\n",
              "      <th>gender</th>\n",
              "      <th>age</th>\n",
              "      <th>topic</th>\n",
              "      <th>sign</th>\n",
              "      <th>date</th>\n",
              "      <th>text</th>\n",
              "    </tr>\n",
              "  </thead>\n",
              "  <tbody>\n",
              "    <tr>\n",
              "      <th>72398</th>\n",
              "      <td>479019</td>\n",
              "      <td>male</td>\n",
              "      <td>24</td>\n",
              "      <td>Student</td>\n",
              "      <td>Gemini</td>\n",
              "      <td>02,July,2004</td>\n",
              "      <td>Ive been watching a lot of movies...</td>\n",
              "    </tr>\n",
              "    <tr>\n",
              "      <th>132682</th>\n",
              "      <td>3622174</td>\n",
              "      <td>male</td>\n",
              "      <td>16</td>\n",
              "      <td>Student</td>\n",
              "      <td>Leo</td>\n",
              "      <td>25,June,2004</td>\n",
              "      <td>Zuma, by Pop Cap games, is one o...</td>\n",
              "    </tr>\n",
              "    <tr>\n",
              "      <th>82810</th>\n",
              "      <td>1478632</td>\n",
              "      <td>male</td>\n",
              "      <td>17</td>\n",
              "      <td>Student</td>\n",
              "      <td>Leo</td>\n",
              "      <td>30,May,2003</td>\n",
              "      <td>[Step Up Day? WTF?]  Yeah, the eighth ...</td>\n",
              "    </tr>\n",
              "    <tr>\n",
              "      <th>543401</th>\n",
              "      <td>2973911</td>\n",
              "      <td>male</td>\n",
              "      <td>17</td>\n",
              "      <td>Student</td>\n",
              "      <td>Sagittarius</td>\n",
              "      <td>01,September,2003</td>\n",
              "      <td>Ok, so i haven't posted for some ti...</td>\n",
              "    </tr>\n",
              "    <tr>\n",
              "      <th>650855</th>\n",
              "      <td>891544</td>\n",
              "      <td>male</td>\n",
              "      <td>27</td>\n",
              "      <td>Student</td>\n",
              "      <td>Libra</td>\n",
              "      <td>28,July,2004</td>\n",
              "      <td>hi gang...  the hunt may have to be pos...</td>\n",
              "    </tr>\n",
              "  </tbody>\n",
              "</table>\n",
              "</div>"
            ],
            "text/plain": [
              "             id  ...                                               text\n",
              "72398    479019  ...               Ive been watching a lot of movies...\n",
              "132682  3622174  ...                Zuma, by Pop Cap games, is one o...\n",
              "82810   1478632  ...          [Step Up Day? WTF?]  Yeah, the eighth ...\n",
              "543401  2973911  ...             Ok, so i haven't posted for some ti...\n",
              "650855   891544  ...         hi gang...  the hunt may have to be pos...\n",
              "\n",
              "[5 rows x 7 columns]"
            ]
          },
          "execution_count": 60,
          "metadata": {
            "tags": []
          },
          "output_type": "execute_result"
        }
      ],
      "source": [
        "df.head()"
      ]
    },
    {
      "cell_type": "code",
      "execution_count": null,
      "metadata": {
        "id": "HFQMu_gNW_MP"
      },
      "outputs": [],
      "source": [
        "df['age'] = df['age'].astype(str)"
      ]
    },
    {
      "cell_type": "code",
      "execution_count": null,
      "metadata": {
        "colab": {
          "base_uri": "https://localhost:8080/"
        },
        "id": "IUlPVAz0WM1o",
        "outputId": "c3dfdcd5-add5-461f-e54b-7948c54e2d45"
      },
      "outputs": [
        {
          "name": "stdout",
          "output_type": "stream",
          "text": [
            "             id  ...                        label\n",
            "72398    479019  ...       male 24 Student Gemini\n",
            "132682  3622174  ...          male 16 Student Leo\n",
            "82810   1478632  ...          male 17 Student Leo\n",
            "543401  2973911  ...  male 17 Student Sagittarius\n",
            "650855   891544  ...        male 27 Student Libra\n",
            "...         ...  ...                          ...\n",
            "680242  1722161  ...      female 23 Fashion Libra\n",
            "680243  1722161  ...      female 23 Fashion Libra\n",
            "680244  1722161  ...      female 23 Fashion Libra\n",
            "680245  1722161  ...      female 23 Fashion Libra\n",
            "680246  1722161  ...      female 23 Fashion Libra\n",
            "\n",
            "[39851 rows x 8 columns]\n"
          ]
        }
      ],
      "source": [
        "df['label'] = df[['gender', 'age', 'topic', 'sign']].apply(lambda x: ' '.join(x), axis = 1)\n",
        "\n",
        "print(df)"
      ]
    },
    {
      "cell_type": "code",
      "execution_count": null,
      "metadata": {
        "id": "BmjG3zn7XP_q"
      },
      "outputs": [],
      "source": [
        "text = df[['text', 'label']]"
      ]
    },
    {
      "cell_type": "code",
      "execution_count": null,
      "metadata": {
        "colab": {
          "base_uri": "https://localhost:8080/"
        },
        "id": "SLiztyH8XhIa",
        "outputId": "307101f0-62af-413f-b376-c7676be44e2f"
      },
      "outputs": [
        {
          "name": "stdout",
          "output_type": "stream",
          "text": [
            "                                                     text                           label\n",
            "659799                     Cognize Maddie     Random F...        female 16 Student Taurus\n",
            "82664          todAy g0t nPcC ph0to-taking sessIon.. a...        female 16 Student Taurus\n",
            "597447                    Oh well as my earlier entry ...        female 16 Student Taurus\n",
            "312545             Laying in bed, trying to figure out...        female 16 Student Taurus\n",
            "490294          CURRENT ....     [ current clothes]  r...        female 16 Student Taurus\n",
            "...                                                   ...                             ...\n",
            "563438     We didn't get a chance to get to Minneapoli...  female 38 Government Capricorn\n",
            "563455     When I was at Michael's I decided to pick u...  female 38 Government Capricorn\n",
            "563446     Ronald Reagan's funeral was today. Nearly e...  female 38 Government Capricorn\n",
            "563471     Went to the Rice Street Festival yesterday....  female 38 Government Capricorn\n",
            "563455     When I was at Michael's I decided to pick u...  female 38 Government Capricorn\n",
            "\n",
            "[200 rows x 2 columns]\n"
          ]
        }
      ],
      "source": [
        "print(text[text.groupby(\"label\")[\"label\"].transform('size') == 50])"
      ]
    },
    {
      "cell_type": "code",
      "execution_count": null,
      "metadata": {
        "id": "ilGEakoxYwP5"
      },
      "outputs": [],
      "source": [
        "data = text[text.groupby(\"label\")[\"label\"].transform('size') == 20]"
      ]
    },
    {
      "cell_type": "code",
      "execution_count": null,
      "metadata": {
        "colab": {
          "base_uri": "https://localhost:8080/"
        },
        "id": "5f2BJgv4Y8BS",
        "outputId": "ba14e75e-b62a-40c9-db92-b1283a5129fe"
      },
      "outputs": [
        {
          "data": {
            "text/plain": [
              "422637    urllink god can turn high money-spinning fashi...\n",
              "232041    bludgy days ...this week. today we only had on...\n",
              "91583     lovin' the picture chichi and you should've sl...\n",
              "91544     hey everybody i went to the concert and it was...\n",
              "292924    msh vs gms full time report-- padang field a.....\n",
              "Name: text, dtype: object"
            ]
          },
          "execution_count": 66,
          "metadata": {
            "tags": []
          },
          "output_type": "execute_result"
        }
      ],
      "source": [
        "data['text'] = data['text'].apply( lambda t : ' '.join( word.lower() for word in t.split()  ) )\n",
        "data['text'].head(5)"
      ]
    },
    {
      "cell_type": "code",
      "execution_count": null,
      "metadata": {
        "colab": {
          "base_uri": "https://localhost:8080/"
        },
        "id": "Umke18QkZBhG",
        "outputId": "d0c90b26-b035-4f42-ed96-e259a80165b2"
      },
      "outputs": [
        {
          "data": {
            "text/plain": [
              "422637    urllink god can turn high moneyspinning fashio...\n",
              "232041    bludgy days this week today we only had one pr...\n",
              "91583     lovin the picture chichi and you shouldve slap...\n",
              "91544     hey everybody i went to the concert and it was...\n",
              "292924    msh vs gms full time report padang field athe ...\n",
              "539776    hmm well whats been happing with me lately las...\n",
              "539773    so i saw urllink the bourne supremacy a few we...\n",
              "660101    well he worked and got drunk what a way to spe...\n",
              "421381    ive always wondered why people take part in th...\n",
              "577844    what do that both person mean to you mr sandma...\n",
              "Name: text, dtype: object"
            ]
          },
          "execution_count": 67,
          "metadata": {
            "tags": []
          },
          "output_type": "execute_result"
        }
      ],
      "source": [
        "# 2. Remove punctuations\n",
        "# the [^\\w\\s] means remove everything, keep only words(w) and spaces(s)\n",
        "# this step should be done after feature extraction like hashtags, user tagged\n",
        "data['text'] = data['text'].str.replace( '[^\\w\\s]' , '' )\n",
        "data['text'].head(10)"
      ]
    },
    {
      "cell_type": "code",
      "execution_count": null,
      "metadata": {
        "id": "PYSqFF8RZKrm"
      },
      "outputs": [],
      "source": [
        "# 3 . Remove stop words - the, a , and etc. These are most commonly occuring words, and may created irrevelent \n",
        "# baises to our model\n",
        "from nltk.corpus import stopwords\n",
        "stop = stopwords.words('english')\n",
        "\n",
        "data['text'] = data['text'].apply( lambda t : \" \".join( word for word in t.split() \n",
        "                                                       if word not in stop ) )"
      ]
    },
    {
      "cell_type": "code",
      "execution_count": null,
      "metadata": {
        "id": "gjn8r6ZFZT4F"
      },
      "outputs": [],
      "source": [
        "# 4. Frequent word removal from the text; text which are not stopwords\n",
        "# first we will take whole tweets data and split into words and then calculate their frequency\n",
        "#  join words only with strings so, there needs to be some string to join other string\n",
        "all_words = ' '.join( data['text'] ).split()\n",
        "freqeuncy = pd.Series(all_words).value_counts()[:20]"
      ]
    },
    {
      "cell_type": "code",
      "execution_count": null,
      "metadata": {
        "colab": {
          "base_uri": "https://localhost:8080/"
        },
        "id": "fo0kiksvZe0J",
        "outputId": "8473c82e-67ea-41ad-9a7e-2a78ca528412"
      },
      "outputs": [
        {
          "data": {
            "text/plain": [
              "urllink    328\n",
              "like       315\n",
              "im         290\n",
              "n          233\n",
              "get        207\n",
              "really     203\n",
              "one        202\n",
              "dont       194\n",
              "know       180\n",
              "think      164\n",
              "see        157\n",
              "time       156\n",
              "well       154\n",
              "would      153\n",
              "good       151\n",
              "much       140\n",
              "people     137\n",
              "go         135\n",
              "movie      133\n",
              "got        125\n",
              "dtype: int64"
            ]
          },
          "execution_count": 70,
          "metadata": {
            "tags": []
          },
          "output_type": "execute_result"
        }
      ],
      "source": [
        "freqeuncy"
      ]
    },
    {
      "cell_type": "code",
      "execution_count": null,
      "metadata": {
        "colab": {
          "base_uri": "https://localhost:8080/"
        },
        "id": "j6vMzhtgZhxh",
        "outputId": "714d2bbe-e5e3-467d-c889-5e2c48aec1c0"
      },
      "outputs": [
        {
          "data": {
            "text/plain": [
              "422637    god turn high moneyspinning fashion advantage ...\n",
              "232041    bludgy days week today proper period work math...\n",
              "91583     lovin picture chichi shouldve slapped dude kep...\n",
              "91544     hey everybody went concert kinda fun guess lik...\n",
              "292924    msh vs gms full report padang field athe game ...\n",
              "539776    hmm whats happing lately last weekend went cam...\n",
              "539773    saw bourne supremacy weeks ago must admit grea...\n",
              "660101    worked drunk way spend bday cused charge phone...\n",
              "421381    ive always wondered take part lotteryits obvio...\n",
              "577844    person mean mr sandman mr dreammaker sometimes...\n",
              "Name: text, dtype: object"
            ]
          },
          "execution_count": 71,
          "metadata": {
            "tags": []
          },
          "output_type": "execute_result"
        }
      ],
      "source": [
        "# remove frequenct words\n",
        "data['text'] = data['text'].apply( lambda t : ' '.join( word for word in t.split() \n",
        "                                                      if word not in freqeuncy) )\n",
        "data['text'].head(10)"
      ]
    },
    {
      "cell_type": "code",
      "execution_count": null,
      "metadata": {
        "colab": {
          "base_uri": "https://localhost:8080/"
        },
        "id": "eyvSK3AqZ26Z",
        "outputId": "6a2a4a5f-2e93-4e3a-c450-428267bb75d2"
      },
      "outputs": [
        {
          "data": {
            "text/plain": [
              "422637    god turn high moneyspinning fashion advantage ...\n",
              "232041    bludgy days week today proper period work math...\n",
              "91583     lovin picture chichi shouldve slapped dude kep...\n",
              "91544     hey everybody went concert kinda fun guess lik...\n",
              "292924    msh vs gms full report padang field athe game ...\n",
              "539776    hmm whats happing lately last weekend went cam...\n",
              "539773    saw bourne supremacy weeks ago must admit grea...\n",
              "660101    worked drunk way spend bday cused charge phone...\n",
              "421381    ive always wondered take part lotteryits obvio...\n",
              "577844    person mean mr sandman mr dreammaker sometimes...\n",
              "Name: text, dtype: object"
            ]
          },
          "execution_count": 72,
          "metadata": {
            "tags": []
          },
          "output_type": "execute_result"
        }
      ],
      "source": [
        "# 6. Remove whitespaces\n",
        "data['text'] = data['text'].str.strip()\n",
        "data['text'].head(10)"
      ]
    },
    {
      "cell_type": "code",
      "execution_count": null,
      "metadata": {
        "colab": {
          "base_uri": "https://localhost:8080/"
        },
        "id": "3-r7kXtYa0UI",
        "outputId": "d639f55a-0aef-49b3-e3b5-8ceee8492725"
      },
      "outputs": [
        {
          "data": {
            "text/plain": [
              "422637    god turn high moneyspinning fashion advantage ...\n",
              "232041    bludgy days week today proper period work math...\n",
              "91583     lovin picture chichi shouldve slapped dude kep...\n",
              "91544     hey everybody went concert kinda fun guess lik...\n",
              "292924    msh vs gms full report padang field athe game ...\n",
              "539776    hmm whats happing lately last weekend went cam...\n",
              "539773    saw bourne supremacy weeks ago must admit grea...\n",
              "660101    worked drunk way spend bday cused charge phone...\n",
              "421381    ive always wondered take part lotteryits obvio...\n",
              "577844    person mean mr sandman mr dreammaker sometimes...\n",
              "Name: text, dtype: object"
            ]
          },
          "execution_count": 73,
          "metadata": {
            "tags": []
          },
          "output_type": "execute_result"
        }
      ],
      "source": [
        "# Remove Numberic\n",
        "import re\n",
        "\n",
        "def remove_num(t):\n",
        "    removed_num_text = re.sub(r'\\d+', '', t)\n",
        "    return removed_num_text\n",
        "\n",
        "data['text'] = data['text'].apply( lambda t : remove_num(t) )\n",
        "data['text'].head(10)"
      ]
    },
    {
      "cell_type": "code",
      "execution_count": null,
      "metadata": {
        "id": "7pqaWPHRa9-y"
      },
      "outputs": [],
      "source": [
        "# 7. Spelling correction – time consuming\n",
        "\n",
        "# text['text'].apply( lambda t :  str( TextBlob(t).correct() ) )"
      ]
    },
    {
      "cell_type": "code",
      "execution_count": null,
      "metadata": {
        "colab": {
          "base_uri": "https://localhost:8080/"
        },
        "id": "2d1PWYGUbJqI",
        "outputId": "711fa1a8-a165-4f35-f97f-f8784009308c"
      },
      "outputs": [
        {
          "data": {
            "text/plain": [
              "422637    god turn high moneyspinning fashion advantage ...\n",
              "232041    bludgy day week today proper period work math ...\n",
              "91583     lovin picture chichi shouldve slapped dude kep...\n",
              "91544     hey everybody went concert kinda fun guess lik...\n",
              "292924    msh v gm full report padang field athe game st...\n",
              "Name: text, dtype: object"
            ]
          },
          "execution_count": 75,
          "metadata": {
            "tags": []
          },
          "output_type": "execute_result"
        }
      ],
      "source": [
        "\n",
        "# 8 . Lemmatization ; its preferred over stemming because if finds the root word\n",
        "# perform lemmatization on the title\n",
        "data['text'] = data['text'].apply( lambda t : \" \".join( [Word(word).lemmatize() for word in t.split()  ]) )\n",
        "data['text'].head(5)"
      ]
    },
    {
      "cell_type": "code",
      "execution_count": null,
      "metadata": {
        "id": "1IURt7y5bYPU"
      },
      "outputs": [],
      "source": [
        "# 9. Bag of words\n",
        "cv = CountVectorizer(stop_words='english')\n",
        "data_cv = cv.fit_transform(data.text.values.astype('str'))\n",
        "\n",
        "data_dtm = pd.DataFrame(data_cv.toarray(), columns=cv.get_feature_names())\n",
        "data_dtm.index = data.index"
      ]
    },
    {
      "cell_type": "code",
      "execution_count": null,
      "metadata": {
        "colab": {
          "base_uri": "https://localhost:8080/",
          "height": 253
        },
        "id": "FCCt3e_Pbjot",
        "outputId": "1f835f8c-dc9a-44c7-b2db-2584b88de333"
      },
      "outputs": [
        {
          "data": {
            "text/html": [
              "<div>\n",
              "<style scoped>\n",
              "    .dataframe tbody tr th:only-of-type {\n",
              "        vertical-align: middle;\n",
              "    }\n",
              "\n",
              "    .dataframe tbody tr th {\n",
              "        vertical-align: top;\n",
              "    }\n",
              "\n",
              "    .dataframe thead th {\n",
              "        text-align: right;\n",
              "    }\n",
              "</style>\n",
              "<table border=\"1\" class=\"dataframe\">\n",
              "  <thead>\n",
              "    <tr style=\"text-align: right;\">\n",
              "      <th></th>\n",
              "      <th>__</th>\n",
              "      <th>___</th>\n",
              "      <th>____</th>\n",
              "      <th>_________</th>\n",
              "      <th>aa</th>\n",
              "      <th>aaaaaaaaaaaahhhhhhhhhhhhhhhhhhhhhhhhhh</th>\n",
              "      <th>aaaahhhhh</th>\n",
              "      <th>aaah</th>\n",
              "      <th>aaarrggghhh</th>\n",
              "      <th>aag</th>\n",
              "      <th>aaja</th>\n",
              "      <th>aajaalternate</th>\n",
              "      <th>aaron</th>\n",
              "      <th>abandoned</th>\n",
              "      <th>abandoning</th>\n",
              "      <th>abbott</th>\n",
              "      <th>abdicated</th>\n",
              "      <th>abdul</th>\n",
              "      <th>abe</th>\n",
              "      <th>abes</th>\n",
              "      <th>abidjan</th>\n",
              "      <th>ability</th>\n",
              "      <th>able</th>\n",
              "      <th>abnormally</th>\n",
              "      <th>abolished</th>\n",
              "      <th>abomination</th>\n",
              "      <th>abortion</th>\n",
              "      <th>aboutcom</th>\n",
              "      <th>abouthhahahahhahahahahahahaha</th>\n",
              "      <th>aboveshit</th>\n",
              "      <th>abre</th>\n",
              "      <th>abreast</th>\n",
              "      <th>absoluta</th>\n",
              "      <th>absolutely</th>\n",
              "      <th>abstinence</th>\n",
              "      <th>abstract</th>\n",
              "      <th>absurdo</th>\n",
              "      <th>abt</th>\n",
              "      <th>abtnow</th>\n",
              "      <th>abu</th>\n",
              "      <th>...</th>\n",
              "      <th>youd</th>\n",
              "      <th>youis</th>\n",
              "      <th>youll</th>\n",
              "      <th>younbsp</th>\n",
              "      <th>young</th>\n",
              "      <th>younger</th>\n",
              "      <th>youngest</th>\n",
              "      <th>youre</th>\n",
              "      <th>youth</th>\n",
              "      <th>youve</th>\n",
              "      <th>yr</th>\n",
              "      <th>yuan</th>\n",
              "      <th>yucks</th>\n",
              "      <th>yugioh</th>\n",
              "      <th>yummm</th>\n",
              "      <th>yummy</th>\n",
              "      <th>yvonne</th>\n",
              "      <th>yyyyyyyyyyaaaaaaaaaaaaaaaaaaaaaaaaaaaaaaaaayyyyyyyyyyyyyyyyyyyyyyyyyy</th>\n",
              "      <th>zapata</th>\n",
              "      <th>zara</th>\n",
              "      <th>zeffirelli</th>\n",
              "      <th>zeppelin</th>\n",
              "      <th>zero</th>\n",
              "      <th>zi</th>\n",
              "      <th>zinn</th>\n",
              "      <th>zion</th>\n",
              "      <th>zip</th>\n",
              "      <th>ziplocklit</th>\n",
              "      <th>zmag</th>\n",
              "      <th>zomb</th>\n",
              "      <th>zombie</th>\n",
              "      <th>zombrano</th>\n",
              "      <th>zooming</th>\n",
              "      <th>zrk</th>\n",
              "      <th>zulund</th>\n",
              "      <th>último</th>\n",
              "      <th>útil</th>\n",
              "      <th>мои</th>\n",
              "      <th>носки</th>\n",
              "      <th>трясет</th>\n",
              "    </tr>\n",
              "  </thead>\n",
              "  <tbody>\n",
              "    <tr>\n",
              "      <th>422637</th>\n",
              "      <td>0</td>\n",
              "      <td>0</td>\n",
              "      <td>0</td>\n",
              "      <td>0</td>\n",
              "      <td>0</td>\n",
              "      <td>0</td>\n",
              "      <td>0</td>\n",
              "      <td>0</td>\n",
              "      <td>0</td>\n",
              "      <td>0</td>\n",
              "      <td>0</td>\n",
              "      <td>0</td>\n",
              "      <td>0</td>\n",
              "      <td>0</td>\n",
              "      <td>0</td>\n",
              "      <td>0</td>\n",
              "      <td>0</td>\n",
              "      <td>0</td>\n",
              "      <td>0</td>\n",
              "      <td>0</td>\n",
              "      <td>0</td>\n",
              "      <td>0</td>\n",
              "      <td>0</td>\n",
              "      <td>0</td>\n",
              "      <td>0</td>\n",
              "      <td>0</td>\n",
              "      <td>0</td>\n",
              "      <td>0</td>\n",
              "      <td>0</td>\n",
              "      <td>0</td>\n",
              "      <td>0</td>\n",
              "      <td>0</td>\n",
              "      <td>0</td>\n",
              "      <td>0</td>\n",
              "      <td>0</td>\n",
              "      <td>0</td>\n",
              "      <td>0</td>\n",
              "      <td>0</td>\n",
              "      <td>0</td>\n",
              "      <td>0</td>\n",
              "      <td>...</td>\n",
              "      <td>0</td>\n",
              "      <td>0</td>\n",
              "      <td>0</td>\n",
              "      <td>0</td>\n",
              "      <td>0</td>\n",
              "      <td>0</td>\n",
              "      <td>0</td>\n",
              "      <td>0</td>\n",
              "      <td>0</td>\n",
              "      <td>0</td>\n",
              "      <td>0</td>\n",
              "      <td>0</td>\n",
              "      <td>0</td>\n",
              "      <td>0</td>\n",
              "      <td>0</td>\n",
              "      <td>0</td>\n",
              "      <td>0</td>\n",
              "      <td>0</td>\n",
              "      <td>0</td>\n",
              "      <td>0</td>\n",
              "      <td>0</td>\n",
              "      <td>0</td>\n",
              "      <td>0</td>\n",
              "      <td>0</td>\n",
              "      <td>0</td>\n",
              "      <td>0</td>\n",
              "      <td>0</td>\n",
              "      <td>0</td>\n",
              "      <td>0</td>\n",
              "      <td>0</td>\n",
              "      <td>0</td>\n",
              "      <td>0</td>\n",
              "      <td>0</td>\n",
              "      <td>0</td>\n",
              "      <td>0</td>\n",
              "      <td>0</td>\n",
              "      <td>0</td>\n",
              "      <td>0</td>\n",
              "      <td>0</td>\n",
              "      <td>0</td>\n",
              "    </tr>\n",
              "    <tr>\n",
              "      <th>232041</th>\n",
              "      <td>1</td>\n",
              "      <td>0</td>\n",
              "      <td>1</td>\n",
              "      <td>0</td>\n",
              "      <td>0</td>\n",
              "      <td>0</td>\n",
              "      <td>0</td>\n",
              "      <td>0</td>\n",
              "      <td>0</td>\n",
              "      <td>0</td>\n",
              "      <td>0</td>\n",
              "      <td>0</td>\n",
              "      <td>0</td>\n",
              "      <td>0</td>\n",
              "      <td>0</td>\n",
              "      <td>0</td>\n",
              "      <td>0</td>\n",
              "      <td>0</td>\n",
              "      <td>0</td>\n",
              "      <td>0</td>\n",
              "      <td>0</td>\n",
              "      <td>0</td>\n",
              "      <td>0</td>\n",
              "      <td>0</td>\n",
              "      <td>0</td>\n",
              "      <td>0</td>\n",
              "      <td>0</td>\n",
              "      <td>0</td>\n",
              "      <td>0</td>\n",
              "      <td>0</td>\n",
              "      <td>0</td>\n",
              "      <td>0</td>\n",
              "      <td>0</td>\n",
              "      <td>0</td>\n",
              "      <td>0</td>\n",
              "      <td>0</td>\n",
              "      <td>0</td>\n",
              "      <td>0</td>\n",
              "      <td>0</td>\n",
              "      <td>0</td>\n",
              "      <td>...</td>\n",
              "      <td>0</td>\n",
              "      <td>0</td>\n",
              "      <td>0</td>\n",
              "      <td>0</td>\n",
              "      <td>0</td>\n",
              "      <td>0</td>\n",
              "      <td>0</td>\n",
              "      <td>0</td>\n",
              "      <td>0</td>\n",
              "      <td>0</td>\n",
              "      <td>0</td>\n",
              "      <td>0</td>\n",
              "      <td>0</td>\n",
              "      <td>0</td>\n",
              "      <td>0</td>\n",
              "      <td>0</td>\n",
              "      <td>0</td>\n",
              "      <td>0</td>\n",
              "      <td>0</td>\n",
              "      <td>0</td>\n",
              "      <td>0</td>\n",
              "      <td>0</td>\n",
              "      <td>0</td>\n",
              "      <td>0</td>\n",
              "      <td>0</td>\n",
              "      <td>0</td>\n",
              "      <td>0</td>\n",
              "      <td>0</td>\n",
              "      <td>0</td>\n",
              "      <td>0</td>\n",
              "      <td>0</td>\n",
              "      <td>0</td>\n",
              "      <td>0</td>\n",
              "      <td>0</td>\n",
              "      <td>0</td>\n",
              "      <td>0</td>\n",
              "      <td>0</td>\n",
              "      <td>0</td>\n",
              "      <td>0</td>\n",
              "      <td>0</td>\n",
              "    </tr>\n",
              "    <tr>\n",
              "      <th>91583</th>\n",
              "      <td>0</td>\n",
              "      <td>0</td>\n",
              "      <td>0</td>\n",
              "      <td>0</td>\n",
              "      <td>0</td>\n",
              "      <td>0</td>\n",
              "      <td>0</td>\n",
              "      <td>0</td>\n",
              "      <td>0</td>\n",
              "      <td>0</td>\n",
              "      <td>0</td>\n",
              "      <td>0</td>\n",
              "      <td>0</td>\n",
              "      <td>0</td>\n",
              "      <td>0</td>\n",
              "      <td>0</td>\n",
              "      <td>0</td>\n",
              "      <td>0</td>\n",
              "      <td>0</td>\n",
              "      <td>0</td>\n",
              "      <td>0</td>\n",
              "      <td>0</td>\n",
              "      <td>1</td>\n",
              "      <td>0</td>\n",
              "      <td>0</td>\n",
              "      <td>0</td>\n",
              "      <td>0</td>\n",
              "      <td>0</td>\n",
              "      <td>0</td>\n",
              "      <td>0</td>\n",
              "      <td>0</td>\n",
              "      <td>0</td>\n",
              "      <td>0</td>\n",
              "      <td>0</td>\n",
              "      <td>0</td>\n",
              "      <td>0</td>\n",
              "      <td>0</td>\n",
              "      <td>0</td>\n",
              "      <td>0</td>\n",
              "      <td>0</td>\n",
              "      <td>...</td>\n",
              "      <td>0</td>\n",
              "      <td>0</td>\n",
              "      <td>0</td>\n",
              "      <td>0</td>\n",
              "      <td>0</td>\n",
              "      <td>0</td>\n",
              "      <td>0</td>\n",
              "      <td>0</td>\n",
              "      <td>0</td>\n",
              "      <td>0</td>\n",
              "      <td>0</td>\n",
              "      <td>0</td>\n",
              "      <td>0</td>\n",
              "      <td>0</td>\n",
              "      <td>0</td>\n",
              "      <td>0</td>\n",
              "      <td>0</td>\n",
              "      <td>0</td>\n",
              "      <td>0</td>\n",
              "      <td>0</td>\n",
              "      <td>0</td>\n",
              "      <td>0</td>\n",
              "      <td>0</td>\n",
              "      <td>0</td>\n",
              "      <td>0</td>\n",
              "      <td>0</td>\n",
              "      <td>0</td>\n",
              "      <td>0</td>\n",
              "      <td>0</td>\n",
              "      <td>0</td>\n",
              "      <td>0</td>\n",
              "      <td>0</td>\n",
              "      <td>0</td>\n",
              "      <td>0</td>\n",
              "      <td>0</td>\n",
              "      <td>0</td>\n",
              "      <td>0</td>\n",
              "      <td>0</td>\n",
              "      <td>0</td>\n",
              "      <td>0</td>\n",
              "    </tr>\n",
              "    <tr>\n",
              "      <th>91544</th>\n",
              "      <td>0</td>\n",
              "      <td>0</td>\n",
              "      <td>0</td>\n",
              "      <td>0</td>\n",
              "      <td>0</td>\n",
              "      <td>0</td>\n",
              "      <td>0</td>\n",
              "      <td>0</td>\n",
              "      <td>0</td>\n",
              "      <td>0</td>\n",
              "      <td>0</td>\n",
              "      <td>0</td>\n",
              "      <td>0</td>\n",
              "      <td>0</td>\n",
              "      <td>0</td>\n",
              "      <td>0</td>\n",
              "      <td>0</td>\n",
              "      <td>0</td>\n",
              "      <td>0</td>\n",
              "      <td>0</td>\n",
              "      <td>0</td>\n",
              "      <td>0</td>\n",
              "      <td>0</td>\n",
              "      <td>0</td>\n",
              "      <td>0</td>\n",
              "      <td>0</td>\n",
              "      <td>0</td>\n",
              "      <td>0</td>\n",
              "      <td>0</td>\n",
              "      <td>0</td>\n",
              "      <td>0</td>\n",
              "      <td>0</td>\n",
              "      <td>0</td>\n",
              "      <td>0</td>\n",
              "      <td>0</td>\n",
              "      <td>0</td>\n",
              "      <td>0</td>\n",
              "      <td>0</td>\n",
              "      <td>0</td>\n",
              "      <td>0</td>\n",
              "      <td>...</td>\n",
              "      <td>0</td>\n",
              "      <td>0</td>\n",
              "      <td>0</td>\n",
              "      <td>0</td>\n",
              "      <td>0</td>\n",
              "      <td>0</td>\n",
              "      <td>0</td>\n",
              "      <td>0</td>\n",
              "      <td>0</td>\n",
              "      <td>0</td>\n",
              "      <td>0</td>\n",
              "      <td>0</td>\n",
              "      <td>0</td>\n",
              "      <td>0</td>\n",
              "      <td>0</td>\n",
              "      <td>0</td>\n",
              "      <td>0</td>\n",
              "      <td>0</td>\n",
              "      <td>0</td>\n",
              "      <td>0</td>\n",
              "      <td>0</td>\n",
              "      <td>0</td>\n",
              "      <td>0</td>\n",
              "      <td>0</td>\n",
              "      <td>0</td>\n",
              "      <td>0</td>\n",
              "      <td>0</td>\n",
              "      <td>0</td>\n",
              "      <td>0</td>\n",
              "      <td>0</td>\n",
              "      <td>0</td>\n",
              "      <td>0</td>\n",
              "      <td>0</td>\n",
              "      <td>0</td>\n",
              "      <td>0</td>\n",
              "      <td>0</td>\n",
              "      <td>0</td>\n",
              "      <td>0</td>\n",
              "      <td>0</td>\n",
              "      <td>0</td>\n",
              "    </tr>\n",
              "    <tr>\n",
              "      <th>292924</th>\n",
              "      <td>0</td>\n",
              "      <td>0</td>\n",
              "      <td>0</td>\n",
              "      <td>0</td>\n",
              "      <td>0</td>\n",
              "      <td>0</td>\n",
              "      <td>0</td>\n",
              "      <td>0</td>\n",
              "      <td>0</td>\n",
              "      <td>0</td>\n",
              "      <td>0</td>\n",
              "      <td>0</td>\n",
              "      <td>0</td>\n",
              "      <td>0</td>\n",
              "      <td>0</td>\n",
              "      <td>0</td>\n",
              "      <td>0</td>\n",
              "      <td>0</td>\n",
              "      <td>0</td>\n",
              "      <td>0</td>\n",
              "      <td>0</td>\n",
              "      <td>0</td>\n",
              "      <td>0</td>\n",
              "      <td>0</td>\n",
              "      <td>0</td>\n",
              "      <td>0</td>\n",
              "      <td>0</td>\n",
              "      <td>0</td>\n",
              "      <td>0</td>\n",
              "      <td>0</td>\n",
              "      <td>0</td>\n",
              "      <td>0</td>\n",
              "      <td>0</td>\n",
              "      <td>0</td>\n",
              "      <td>0</td>\n",
              "      <td>0</td>\n",
              "      <td>0</td>\n",
              "      <td>0</td>\n",
              "      <td>0</td>\n",
              "      <td>0</td>\n",
              "      <td>...</td>\n",
              "      <td>0</td>\n",
              "      <td>0</td>\n",
              "      <td>0</td>\n",
              "      <td>0</td>\n",
              "      <td>0</td>\n",
              "      <td>0</td>\n",
              "      <td>0</td>\n",
              "      <td>0</td>\n",
              "      <td>0</td>\n",
              "      <td>0</td>\n",
              "      <td>0</td>\n",
              "      <td>1</td>\n",
              "      <td>0</td>\n",
              "      <td>0</td>\n",
              "      <td>0</td>\n",
              "      <td>0</td>\n",
              "      <td>0</td>\n",
              "      <td>0</td>\n",
              "      <td>0</td>\n",
              "      <td>0</td>\n",
              "      <td>0</td>\n",
              "      <td>0</td>\n",
              "      <td>0</td>\n",
              "      <td>0</td>\n",
              "      <td>0</td>\n",
              "      <td>0</td>\n",
              "      <td>0</td>\n",
              "      <td>0</td>\n",
              "      <td>0</td>\n",
              "      <td>0</td>\n",
              "      <td>0</td>\n",
              "      <td>0</td>\n",
              "      <td>0</td>\n",
              "      <td>0</td>\n",
              "      <td>0</td>\n",
              "      <td>0</td>\n",
              "      <td>0</td>\n",
              "      <td>0</td>\n",
              "      <td>0</td>\n",
              "      <td>0</td>\n",
              "    </tr>\n",
              "  </tbody>\n",
              "</table>\n",
              "<p>5 rows × 8231 columns</p>\n",
              "</div>"
            ],
            "text/plain": [
              "        __  ___  ____  _________  aa  ...  último  útil  мои  носки  трясет\n",
              "422637   0    0     0          0   0  ...       0     0    0      0       0\n",
              "232041   1    0     1          0   0  ...       0     0    0      0       0\n",
              "91583    0    0     0          0   0  ...       0     0    0      0       0\n",
              "91544    0    0     0          0   0  ...       0     0    0      0       0\n",
              "292924   0    0     0          0   0  ...       0     0    0      0       0\n",
              "\n",
              "[5 rows x 8231 columns]"
            ]
          },
          "execution_count": 77,
          "metadata": {
            "tags": []
          },
          "output_type": "execute_result"
        }
      ],
      "source": [
        "data_dtm.head()"
      ]
    },
    {
      "cell_type": "code",
      "execution_count": null,
      "metadata": {
        "colab": {
          "base_uri": "https://localhost:8080/"
        },
        "id": "_4HLsbVCb77T",
        "outputId": "4d7b2280-02f4-4d1f-cc3a-372dcf9cb754"
      },
      "outputs": [
        {
          "data": {
            "text/plain": [
              "422637        male 23 Student Aries\n",
              "232041    male 14 Student Capricorn\n",
              "91583     male 14 Student Capricorn\n",
              "91544     male 14 Student Capricorn\n",
              "292924    male 14 Student Capricorn\n",
              "                    ...            \n",
              "318062      female 15 Fashion Aries\n",
              "318063      female 15 Fashion Aries\n",
              "318064      female 15 Fashion Aries\n",
              "318065      female 15 Fashion Aries\n",
              "318066      female 15 Fashion Aries\n",
              "Name: label, Length: 340, dtype: object"
            ]
          },
          "execution_count": 78,
          "metadata": {
            "tags": []
          },
          "output_type": "execute_result"
        }
      ],
      "source": [
        "data.label"
      ]
    },
    {
      "cell_type": "code",
      "execution_count": null,
      "metadata": {
        "id": "qsOmZL1DgqSk"
      },
      "outputs": [],
      "source": [
        "data[['gender','age', 'topic', 'sign']] = data.label.str.split(expand=True)"
      ]
    },
    {
      "cell_type": "code",
      "execution_count": null,
      "metadata": {
        "colab": {
          "base_uri": "https://localhost:8080/",
          "height": 204
        },
        "id": "1_ZIm2Txh4LU",
        "outputId": "093c0cb4-52db-45fe-d58a-6dd183a270fe"
      },
      "outputs": [
        {
          "data": {
            "text/html": [
              "<div>\n",
              "<style scoped>\n",
              "    .dataframe tbody tr th:only-of-type {\n",
              "        vertical-align: middle;\n",
              "    }\n",
              "\n",
              "    .dataframe tbody tr th {\n",
              "        vertical-align: top;\n",
              "    }\n",
              "\n",
              "    .dataframe thead th {\n",
              "        text-align: right;\n",
              "    }\n",
              "</style>\n",
              "<table border=\"1\" class=\"dataframe\">\n",
              "  <thead>\n",
              "    <tr style=\"text-align: right;\">\n",
              "      <th></th>\n",
              "      <th>text</th>\n",
              "      <th>label</th>\n",
              "      <th>gender</th>\n",
              "      <th>age</th>\n",
              "      <th>topic</th>\n",
              "      <th>sign</th>\n",
              "    </tr>\n",
              "  </thead>\n",
              "  <tbody>\n",
              "    <tr>\n",
              "      <th>422637</th>\n",
              "      <td>god turn high moneyspinning fashion advantage ...</td>\n",
              "      <td>male 23 Student Aries</td>\n",
              "      <td>male</td>\n",
              "      <td>23</td>\n",
              "      <td>Student</td>\n",
              "      <td>Aries</td>\n",
              "    </tr>\n",
              "    <tr>\n",
              "      <th>232041</th>\n",
              "      <td>bludgy day week today proper period work math ...</td>\n",
              "      <td>male 14 Student Capricorn</td>\n",
              "      <td>male</td>\n",
              "      <td>14</td>\n",
              "      <td>Student</td>\n",
              "      <td>Capricorn</td>\n",
              "    </tr>\n",
              "    <tr>\n",
              "      <th>91583</th>\n",
              "      <td>lovin picture chichi shouldve slapped dude kep...</td>\n",
              "      <td>male 14 Student Capricorn</td>\n",
              "      <td>male</td>\n",
              "      <td>14</td>\n",
              "      <td>Student</td>\n",
              "      <td>Capricorn</td>\n",
              "    </tr>\n",
              "    <tr>\n",
              "      <th>91544</th>\n",
              "      <td>hey everybody went concert kinda fun guess lik...</td>\n",
              "      <td>male 14 Student Capricorn</td>\n",
              "      <td>male</td>\n",
              "      <td>14</td>\n",
              "      <td>Student</td>\n",
              "      <td>Capricorn</td>\n",
              "    </tr>\n",
              "    <tr>\n",
              "      <th>292924</th>\n",
              "      <td>msh v gm full report padang field athe game st...</td>\n",
              "      <td>male 14 Student Capricorn</td>\n",
              "      <td>male</td>\n",
              "      <td>14</td>\n",
              "      <td>Student</td>\n",
              "      <td>Capricorn</td>\n",
              "    </tr>\n",
              "  </tbody>\n",
              "</table>\n",
              "</div>"
            ],
            "text/plain": [
              "                                                     text  ...       sign\n",
              "422637  god turn high moneyspinning fashion advantage ...  ...      Aries\n",
              "232041  bludgy day week today proper period work math ...  ...  Capricorn\n",
              "91583   lovin picture chichi shouldve slapped dude kep...  ...  Capricorn\n",
              "91544   hey everybody went concert kinda fun guess lik...  ...  Capricorn\n",
              "292924  msh v gm full report padang field athe game st...  ...  Capricorn\n",
              "\n",
              "[5 rows x 6 columns]"
            ]
          },
          "execution_count": 80,
          "metadata": {
            "tags": []
          },
          "output_type": "execute_result"
        }
      ],
      "source": [
        "data.head()"
      ]
    },
    {
      "cell_type": "code",
      "execution_count": null,
      "metadata": {
        "id": "bkC8GbM7h9CN"
      },
      "outputs": [],
      "source": [
        "data = data.drop('label', axis = 1)"
      ]
    },
    {
      "cell_type": "code",
      "execution_count": null,
      "metadata": {
        "id": "FOxv7PxziPBV"
      },
      "outputs": [],
      "source": [
        "data['age'] = data['age'].astype(str)\n",
        "data['labels'] = data.apply(lambda col : [col['gender'],col['age'],col['topic'],col['sign']], axis=1)"
      ]
    },
    {
      "cell_type": "code",
      "execution_count": null,
      "metadata": {
        "colab": {
          "base_uri": "https://localhost:8080/",
          "height": 204
        },
        "id": "qL9LxLKeijG6",
        "outputId": "42fd0ef5-a6d0-4ec8-af4f-4553725b5484"
      },
      "outputs": [
        {
          "data": {
            "text/html": [
              "<div>\n",
              "<style scoped>\n",
              "    .dataframe tbody tr th:only-of-type {\n",
              "        vertical-align: middle;\n",
              "    }\n",
              "\n",
              "    .dataframe tbody tr th {\n",
              "        vertical-align: top;\n",
              "    }\n",
              "\n",
              "    .dataframe thead th {\n",
              "        text-align: right;\n",
              "    }\n",
              "</style>\n",
              "<table border=\"1\" class=\"dataframe\">\n",
              "  <thead>\n",
              "    <tr style=\"text-align: right;\">\n",
              "      <th></th>\n",
              "      <th>text</th>\n",
              "      <th>gender</th>\n",
              "      <th>age</th>\n",
              "      <th>topic</th>\n",
              "      <th>sign</th>\n",
              "      <th>labels</th>\n",
              "    </tr>\n",
              "  </thead>\n",
              "  <tbody>\n",
              "    <tr>\n",
              "      <th>422637</th>\n",
              "      <td>god turn high moneyspinning fashion advantage ...</td>\n",
              "      <td>male</td>\n",
              "      <td>23</td>\n",
              "      <td>Student</td>\n",
              "      <td>Aries</td>\n",
              "      <td>[male, 23, Student, Aries]</td>\n",
              "    </tr>\n",
              "    <tr>\n",
              "      <th>232041</th>\n",
              "      <td>bludgy day week today proper period work math ...</td>\n",
              "      <td>male</td>\n",
              "      <td>14</td>\n",
              "      <td>Student</td>\n",
              "      <td>Capricorn</td>\n",
              "      <td>[male, 14, Student, Capricorn]</td>\n",
              "    </tr>\n",
              "    <tr>\n",
              "      <th>91583</th>\n",
              "      <td>lovin picture chichi shouldve slapped dude kep...</td>\n",
              "      <td>male</td>\n",
              "      <td>14</td>\n",
              "      <td>Student</td>\n",
              "      <td>Capricorn</td>\n",
              "      <td>[male, 14, Student, Capricorn]</td>\n",
              "    </tr>\n",
              "    <tr>\n",
              "      <th>91544</th>\n",
              "      <td>hey everybody went concert kinda fun guess lik...</td>\n",
              "      <td>male</td>\n",
              "      <td>14</td>\n",
              "      <td>Student</td>\n",
              "      <td>Capricorn</td>\n",
              "      <td>[male, 14, Student, Capricorn]</td>\n",
              "    </tr>\n",
              "    <tr>\n",
              "      <th>292924</th>\n",
              "      <td>msh v gm full report padang field athe game st...</td>\n",
              "      <td>male</td>\n",
              "      <td>14</td>\n",
              "      <td>Student</td>\n",
              "      <td>Capricorn</td>\n",
              "      <td>[male, 14, Student, Capricorn]</td>\n",
              "    </tr>\n",
              "  </tbody>\n",
              "</table>\n",
              "</div>"
            ],
            "text/plain": [
              "                                                     text  ...                          labels\n",
              "422637  god turn high moneyspinning fashion advantage ...  ...      [male, 23, Student, Aries]\n",
              "232041  bludgy day week today proper period work math ...  ...  [male, 14, Student, Capricorn]\n",
              "91583   lovin picture chichi shouldve slapped dude kep...  ...  [male, 14, Student, Capricorn]\n",
              "91544   hey everybody went concert kinda fun guess lik...  ...  [male, 14, Student, Capricorn]\n",
              "292924  msh v gm full report padang field athe game st...  ...  [male, 14, Student, Capricorn]\n",
              "\n",
              "[5 rows x 6 columns]"
            ]
          },
          "execution_count": 83,
          "metadata": {
            "tags": []
          },
          "output_type": "execute_result"
        }
      ],
      "source": [
        "data.head()"
      ]
    },
    {
      "cell_type": "code",
      "execution_count": null,
      "metadata": {
        "id": "KyqAqKrWdbvx"
      },
      "outputs": [],
      "source": [
        "X= data_dtm.values\n",
        "y = data.labels.values\n",
        "X_train, X_test, y_train, y_test = train_test_split(X, y, random_state=42, test_size = 0.2)"
      ]
    },
    {
      "cell_type": "code",
      "execution_count": null,
      "metadata": {
        "colab": {
          "base_uri": "https://localhost:8080/"
        },
        "id": "o0YNdjJheMNg",
        "outputId": "7f53a48e-4205-4277-ac8a-c8b6d13e623f"
      },
      "outputs": [
        {
          "data": {
            "text/plain": [
              "{'14': 40,\n",
              " '15': 40,\n",
              " '16': 20,\n",
              " '17': 20,\n",
              " '23': 40,\n",
              " '26': 40,\n",
              " '27': 40,\n",
              " '33': 20,\n",
              " '34': 20,\n",
              " '36': 20,\n",
              " '37': 20,\n",
              " '45': 20,\n",
              " 'Aquarius': 20,\n",
              " 'Aries': 60,\n",
              " 'Arts': 120,\n",
              " 'Capricorn': 40,\n",
              " 'Fashion': 20,\n",
              " 'Gemini': 40,\n",
              " 'Law': 20,\n",
              " 'Leo': 20,\n",
              " 'Libra': 20,\n",
              " 'Non-Profit': 20,\n",
              " 'Pisces': 60,\n",
              " 'Religion': 40,\n",
              " 'Sagittarius': 60,\n",
              " 'Scorpio': 20,\n",
              " 'Student': 80,\n",
              " 'Technology': 40,\n",
              " 'female': 140,\n",
              " 'male': 200}"
            ]
          },
          "execution_count": 85,
          "metadata": {
            "tags": []
          },
          "output_type": "execute_result"
        }
      ],
      "source": [
        "label_counts=dict()\n",
        "\n",
        "for labels in data.labels.values:\n",
        "    for label in labels:\n",
        "        if label in label_counts:\n",
        "            label_counts[str(label)]+=1\n",
        "        else:\n",
        "            label_counts[str(label)]=1\n",
        "        \n",
        "label_counts"
      ]
    },
    {
      "cell_type": "code",
      "execution_count": null,
      "metadata": {
        "id": "z7WOEShDdzWw"
      },
      "outputs": [],
      "source": [
        "\n",
        "binarizer=MultiLabelBinarizer(classes=sorted(label_counts.keys()))\n",
        "\n",
        "\n",
        "y_train = binarizer.fit_transform(y_train)\n",
        "y_test = binarizer.transform(y_test)"
      ]
    },
    {
      "cell_type": "code",
      "execution_count": null,
      "metadata": {
        "colab": {
          "base_uri": "https://localhost:8080/"
        },
        "id": "Jth0-ScIjz42",
        "outputId": "2a757fb1-ec8d-455b-ac9b-c48c807956ab"
      },
      "outputs": [
        {
          "name": "stdout",
          "output_type": "stream",
          "text": [
            "Epoch 1/10\n",
            "55/55 [==============================] - 16s 3ms/step - loss: nan - accuracy: 0.0212   \n",
            "Epoch 2/10\n",
            "55/55 [==============================] - 0s 4ms/step - loss: nan - accuracy: 0.1263\n",
            "Epoch 3/10\n",
            "55/55 [==============================] - 0s 4ms/step - loss: nan - accuracy: 0.0945\n",
            "Epoch 4/10\n",
            "55/55 [==============================] - 0s 3ms/step - loss: nan - accuracy: 0.1345\n",
            "Epoch 5/10\n",
            "55/55 [==============================] - 0s 4ms/step - loss: nan - accuracy: 0.0787\n",
            "Epoch 6/10\n",
            "55/55 [==============================] - 0s 4ms/step - loss: nan - accuracy: 0.1473\n",
            "Epoch 7/10\n",
            "55/55 [==============================] - 0s 5ms/step - loss: nan - accuracy: 0.0890\n",
            "Epoch 8/10\n",
            "55/55 [==============================] - 0s 5ms/step - loss: nan - accuracy: 0.0988\n",
            "Epoch 9/10\n",
            "55/55 [==============================] - 0s 4ms/step - loss: nan - accuracy: 0.1440\n",
            "Epoch 10/10\n",
            "55/55 [==============================] - 0s 4ms/step - loss: nan - accuracy: 0.1100\n"
          ]
        }
      ],
      "source": [
        "# Create model - 3 layers. First layer 128 neurons, second layer 64 neurons and 3rd output layer contains number of neurons\n",
        "# equal to number of intents to predict output intent with softmax\n",
        "from keras.models import Sequential\n",
        "from keras.layers import Dense, Activation, Dropout\n",
        "from keras.optimizers import SGD\n",
        "\n",
        "clf_model = Sequential()\n",
        "clf_model.add(Dense(128, input_shape=(len(X_train[0]),), activation='relu'))\n",
        "clf_model.add(Dropout(0.5))\n",
        "clf_model.add(Dense(64, activation='relu'))\n",
        "clf_model.add(Dropout(0.5))\n",
        "clf_model.add(Dense(len(y_train[0]), activation='softmax'))\n",
        "# Compile model. Stochastic gradient descent with Nesterov accelerated gradient gives good results for this model\n",
        "sgd = SGD(lr=0.01, decay=1e-6, momentum=0.9, nesterov=True)\n",
        "clf_model.compile(loss='categorical_crossentropy', optimizer=sgd, metrics=['accuracy'])\n",
        "#fitting and saving the model \n",
        "clf_hist = clf_model.fit(np.array(X_train), np.array(y_train), epochs=10, batch_size=5, verbose=1)"
      ]
    },
    {
      "cell_type": "markdown",
      "metadata": {
        "id": "h7IgCuhUlJVI"
      },
      "source": [
        "The logistic regression model on top has a poor predictive accuracy. We can also check with svm and nbayes the accuracy. There is a tradeoff between time to train model and model accuracy. I have not tuned the neural net for the paucity of time. However, it would be much faster. This could be due to exploding gradient problem, which can be solved with tuning the activation function, lr. I have not tried that here since the aim of the project was to demonstrate converting blogtext data in a usable form for both ml and nn models. The same has been successfully achieved in the above sections. "
      ]
    },
    {
      "cell_type": "markdown",
      "metadata": {
        "id": "zjVj3hqqVz7R"
      },
      "source": [
        "CUSTOMER SUPPORT CHAT BOT DEVELOPMENT"
      ]
    },
    {
      "cell_type": "code",
      "execution_count": null,
      "metadata": {
        "colab": {
          "base_uri": "https://localhost:8080/"
        },
        "id": "VHyZKwFw9Gf3",
        "outputId": "275331a0-0136-4977-cb89-8d9f61af258b"
      },
      "outputs": [
        {
          "name": "stdout",
          "output_type": "stream",
          "text": [
            "[nltk_data] Downloading package wordnet to /root/nltk_data...\n",
            "[nltk_data]   Package wordnet is already up-to-date!\n",
            "[nltk_data] Downloading package punkt to /root/nltk_data...\n",
            "[nltk_data]   Unzipping tokenizers/punkt.zip.\n"
          ]
        }
      ],
      "source": [
        "import nltk\n",
        "nltk.download('wordnet')\n",
        "nltk.download('punkt')\n",
        "from nltk.stem import WordNetLemmatizer\n",
        "lemmatizer = WordNetLemmatizer()\n",
        "import json\n",
        "import pickle\n",
        "import numpy as np\n",
        "from keras.models import Sequential\n",
        "from keras.layers import Dense, Activation, Dropout\n",
        "from keras.optimizers import SGD\n",
        "import random"
      ]
    },
    {
      "cell_type": "code",
      "execution_count": null,
      "metadata": {
        "id": "Q8YyOlw19I3h"
      },
      "outputs": [],
      "source": [
        "words=[]\n",
        "classes = []\n",
        "documents = []\n",
        "ignore_words = ['?', '!']\n",
        "data_file = open('/content/gdrive/MyDrive/GL data/P9/GL Bot.json').read()\n",
        "intents = json.loads(data_file)"
      ]
    },
    {
      "cell_type": "code",
      "execution_count": null,
      "metadata": {
        "colab": {
          "base_uri": "https://localhost:8080/"
        },
        "id": "KRyw8YpXFKZU",
        "outputId": "06a18d24-329f-4583-d1bc-690d826e57ae"
      },
      "outputs": [
        {
          "data": {
            "text/plain": [
              "{'intents': [{'context_set': '',\n",
              "   'patterns': ['hi',\n",
              "    'how are you',\n",
              "    'is anyone there',\n",
              "    'hello',\n",
              "    'whats up',\n",
              "    'hey',\n",
              "    'yo',\n",
              "    'listen',\n",
              "    'please help me',\n",
              "    'i am learner from',\n",
              "    'i belong to',\n",
              "    'aiml batch',\n",
              "    'aifl batch',\n",
              "    'i am from',\n",
              "    'my pm is',\n",
              "    'blended',\n",
              "    'online',\n",
              "    'i am from',\n",
              "    'hey ya',\n",
              "    'talking to you for first time'],\n",
              "   'responses': ['Hello! how can i help you ?'],\n",
              "   'tag': 'Intro'},\n",
              "  {'context_set': '',\n",
              "   'patterns': ['thank you',\n",
              "    'thanks',\n",
              "    'cya',\n",
              "    'see you',\n",
              "    'later',\n",
              "    'see you later',\n",
              "    'goodbye',\n",
              "    'i am leaving',\n",
              "    'have a Good day',\n",
              "    'you helped me',\n",
              "    'thanks a lot',\n",
              "    'thanks a ton',\n",
              "    'you are the best',\n",
              "    'great help',\n",
              "    'too good',\n",
              "    'you are a good learning buddy'],\n",
              "   'responses': ['I hope I was able to assist you, Good Bye'],\n",
              "   'tag': 'Exit'},\n",
              "  {'context_set': '',\n",
              "   'patterns': ['olympus',\n",
              "    'explain me how olympus works',\n",
              "    'I am not able to understand olympus',\n",
              "    'olympus window not working',\n",
              "    'no access to olympus',\n",
              "    'unable to see link in olympus',\n",
              "    'no link visible on olympus',\n",
              "    'whom to contact for olympus',\n",
              "    'lot of problem with olympus',\n",
              "    'olypus is not a good tool',\n",
              "    'lot of problems with olympus',\n",
              "    'how to use olympus',\n",
              "    'teach me olympus'],\n",
              "   'responses': ['Link: Olympus wiki'],\n",
              "   'tag': 'Olympus'},\n",
              "  {'context_set': '',\n",
              "   'patterns': ['i am not able to understand svm',\n",
              "    'explain me how machine learning works',\n",
              "    'i am not able to understand naive bayes',\n",
              "    'i am not able to understand logistic regression',\n",
              "    'i am not able to understand ensemble techb=niques',\n",
              "    'i am not able to understand knn',\n",
              "    'i am not able to understand knn imputer',\n",
              "    'i am not able to understand cross validation',\n",
              "    'i am not able to understand boosting',\n",
              "    'i am not able to understand random forest',\n",
              "    'i am not able to understand ada boosting',\n",
              "    'i am not able to understand gradient boosting',\n",
              "    'machine learning',\n",
              "    'ML',\n",
              "    'SL',\n",
              "    'supervised learning',\n",
              "    'knn',\n",
              "    'logistic regression',\n",
              "    'regression',\n",
              "    'classification',\n",
              "    'naive bayes',\n",
              "    'nb',\n",
              "    'ensemble techniques',\n",
              "    'bagging',\n",
              "    'boosting',\n",
              "    'ada boosting',\n",
              "    'ada',\n",
              "    'gradient boosting',\n",
              "    'hyper parameters'],\n",
              "   'responses': ['Link: Machine Learning wiki '],\n",
              "   'tag': 'SL'},\n",
              "  {'context_set': '',\n",
              "   'patterns': ['what is deep learning',\n",
              "    'unable to understand deep learning',\n",
              "    'explain me how deep learning works',\n",
              "    'i am not able to understand deep learning',\n",
              "    'not able to understand neural nets',\n",
              "    'very diffult to understand neural nets',\n",
              "    'unable to understand neural nets',\n",
              "    'ann',\n",
              "    'artificial intelligence',\n",
              "    'artificial neural networks',\n",
              "    'weights',\n",
              "    'activation function',\n",
              "    'hidden layers',\n",
              "    'softmax',\n",
              "    'sigmoid',\n",
              "    'relu',\n",
              "    'otimizer',\n",
              "    'forward propagation',\n",
              "    'backward propagation',\n",
              "    'epochs',\n",
              "    'epoch',\n",
              "    'what is an epoch',\n",
              "    'adam',\n",
              "    'sgd'],\n",
              "   'responses': ['Link: Neural Nets wiki'],\n",
              "   'tag': 'NN'},\n",
              "  {'context_set': '',\n",
              "   'patterns': ['what is your name',\n",
              "    'who are you',\n",
              "    'name please',\n",
              "    'when are your hours of opertions',\n",
              "    'what are your working hours',\n",
              "    'hours of operation',\n",
              "    'working hours',\n",
              "    'hours'],\n",
              "   'responses': ['I am your virtual learning assistant'],\n",
              "   'tag': 'Bot'},\n",
              "  {'context_set': '',\n",
              "   'patterns': ['what the hell',\n",
              "    'bloody stupid bot',\n",
              "    'do you think you are very smart',\n",
              "    'screw you',\n",
              "    'i hate you',\n",
              "    'you are stupid',\n",
              "    'jerk',\n",
              "    'you are a joke',\n",
              "    'useless piece of shit'],\n",
              "   'responses': ['Please use respectful words'],\n",
              "   'tag': 'Profane'},\n",
              "  {'context_set': '',\n",
              "   'patterns': ['my problem is not solved',\n",
              "    'you did not help me',\n",
              "    'not a good solution',\n",
              "    'bad solution',\n",
              "    'not good solution',\n",
              "    'no help',\n",
              "    'wasted my time',\n",
              "    'useless bot',\n",
              "    'create a ticket'],\n",
              "   'responses': ['Tarnsferring the request to your PM'],\n",
              "   'tag': 'Ticket'}]}"
            ]
          },
          "execution_count": 90,
          "metadata": {
            "tags": []
          },
          "output_type": "execute_result"
        }
      ],
      "source": [
        "intents"
      ]
    },
    {
      "cell_type": "code",
      "execution_count": null,
      "metadata": {
        "colab": {
          "base_uri": "https://localhost:8080/"
        },
        "id": "c41RxTryIYo4",
        "outputId": "61674040-8fd5-42b1-a269-4351913b81d1"
      },
      "outputs": [
        {
          "data": {
            "text/plain": [
              "{'context_set': '',\n",
              " 'patterns': ['hi',\n",
              "  'how are you',\n",
              "  'is anyone there',\n",
              "  'hello',\n",
              "  'whats up',\n",
              "  'hey',\n",
              "  'yo',\n",
              "  'listen',\n",
              "  'please help me',\n",
              "  'i am learner from',\n",
              "  'i belong to',\n",
              "  'aiml batch',\n",
              "  'aifl batch',\n",
              "  'i am from',\n",
              "  'my pm is',\n",
              "  'blended',\n",
              "  'online',\n",
              "  'i am from',\n",
              "  'hey ya',\n",
              "  'talking to you for first time'],\n",
              " 'responses': ['Hello! how can i help you ?'],\n",
              " 'tag': 'Intro'}"
            ]
          },
          "execution_count": 91,
          "metadata": {
            "tags": []
          },
          "output_type": "execute_result"
        }
      ],
      "source": [
        "intents['intents'][0]"
      ]
    },
    {
      "cell_type": "code",
      "execution_count": null,
      "metadata": {
        "colab": {
          "base_uri": "https://localhost:8080/"
        },
        "id": "iZ9vrm6xJmh6",
        "outputId": "62b8560b-9ba8-41cc-d7c9-2b459beed720"
      },
      "outputs": [
        {
          "data": {
            "text/plain": [
              "8"
            ]
          },
          "execution_count": 92,
          "metadata": {
            "tags": []
          },
          "output_type": "execute_result"
        }
      ],
      "source": [
        "len(intents['intents'])"
      ]
    },
    {
      "cell_type": "code",
      "execution_count": null,
      "metadata": {
        "colab": {
          "base_uri": "https://localhost:8080/"
        },
        "id": "R4iIjmtqJpoT",
        "outputId": "22cc3e5d-df0c-4712-b5f5-63e4a5fd5c96"
      },
      "outputs": [
        {
          "data": {
            "text/plain": [
              "{'context_set': '',\n",
              " 'patterns': ['what is deep learning',\n",
              "  'unable to understand deep learning',\n",
              "  'explain me how deep learning works',\n",
              "  'i am not able to understand deep learning',\n",
              "  'not able to understand neural nets',\n",
              "  'very diffult to understand neural nets',\n",
              "  'unable to understand neural nets',\n",
              "  'ann',\n",
              "  'artificial intelligence',\n",
              "  'artificial neural networks',\n",
              "  'weights',\n",
              "  'activation function',\n",
              "  'hidden layers',\n",
              "  'softmax',\n",
              "  'sigmoid',\n",
              "  'relu',\n",
              "  'otimizer',\n",
              "  'forward propagation',\n",
              "  'backward propagation',\n",
              "  'epochs',\n",
              "  'epoch',\n",
              "  'what is an epoch',\n",
              "  'adam',\n",
              "  'sgd'],\n",
              " 'responses': ['Link: Neural Nets wiki'],\n",
              " 'tag': 'NN'}"
            ]
          },
          "execution_count": 93,
          "metadata": {
            "tags": []
          },
          "output_type": "execute_result"
        }
      ],
      "source": [
        "intents['intents'][4] #printing the core support dictionary"
      ]
    },
    {
      "cell_type": "code",
      "execution_count": null,
      "metadata": {
        "id": "dbnOUWo0J9ix"
      },
      "outputs": [],
      "source": [
        "intents['intents'][4]['patterns'].append('nlp is very difficult')"
      ]
    },
    {
      "cell_type": "code",
      "execution_count": null,
      "metadata": {
        "id": "-0-PRqLvHSm1"
      },
      "outputs": [],
      "source": [
        "for intent in intents['intents']:\n",
        "    for pattern in intent['patterns']:\n",
        "        #tokenize each word\n",
        "        w = nltk.word_tokenize(pattern)\n",
        "        words.extend(w)\n",
        "        #add documents in the corpus\n",
        "        documents.append((w, intent['tag']))\n",
        "        # add to our classes list\n",
        "        if intent['tag'] not in classes:\n",
        "            classes.append(intent['tag'])"
      ]
    },
    {
      "cell_type": "code",
      "execution_count": null,
      "metadata": {
        "colab": {
          "base_uri": "https://localhost:8080/"
        },
        "id": "imwjiFT1HeFm",
        "outputId": "ba2a7faa-868f-4e62-8de3-5373456c88fc"
      },
      "outputs": [
        {
          "name": "stdout",
          "output_type": "stream",
          "text": [
            "129 documents\n",
            "8 classes ['Bot', 'Exit', 'Intro', 'NN', 'Olympus', 'Profane', 'SL', 'Ticket']\n",
            "160 unique lemmatized words ['a', 'able', 'access', 'activation', 'ada', 'adam', 'aifl', 'aiml', 'am', 'an', 'ann', 'anyone', 'are', 'artificial', 'backward', 'bad', 'bagging', 'batch', 'bayes', 'belong', 'best', 'blended', 'bloody', 'boosting', 'bot', 'buddy', 'classification', 'contact', 'create', 'cross', 'cya', 'day', 'deep', 'did', 'difficult', 'diffult', 'do', 'ensemble', 'epoch', 'explain', 'first', 'for', 'forest', 'forward', 'from', 'function', 'good', 'goodbye', 'gradient', 'great', 'hate', 'have', 'hell', 'hello', 'help', 'helped', 'hey', 'hi', 'hidden', 'hour', 'how', 'hyper', 'i', 'imputer', 'in', 'intelligence', 'is', 'jerk', 'joke', 'knn', 'later', 'layer', 'learner', 'learning', 'leaving', 'link', 'listen', 'logistic', 'lot', 'machine', 'me', 'ml', 'my', 'naive', 'name', 'nb', 'net', 'network', 'neural', 'nlp', 'no', 'not', 'of', 'olympus', 'olypus', 'on', 'online', 'operation', 'opertions', 'otimizer', 'parameter', 'piece', 'please', 'pm', 'problem', 'propagation', 'random', 'regression', 'relu', 'screw', 'see', 'sgd', 'shit', 'sigmoid', 'sl', 'smart', 'softmax', 'solution', 'solved', 'stupid', 'supervised', 'svm', 'talking', 'teach', 'techb=niques', 'technique', 'thank', 'thanks', 'the', 'there', 'think', 'ticket', 'time', 'to', 'ton', 'too', 'tool', 'unable', 'understand', 'up', 'use', 'useless', 'validation', 'very', 'visible', 'wasted', 'weight', 'what', 'whats', 'when', 'who', 'whom', 'window', 'with', 'work', 'working', 'ya', 'yo', 'you', 'your']\n"
          ]
        }
      ],
      "source": [
        "# lemmatize, lower each word and remove duplicates\n",
        "words = [lemmatizer.lemmatize(w.lower()) for w in words if w not in ignore_words]\n",
        "words = sorted(list(set(words)))\n",
        "# sort classes\n",
        "classes = sorted(list(set(classes)))\n",
        "# documents = combination between patterns and intents\n",
        "print (len(documents), \"documents\")\n",
        "# classes = intents\n",
        "print (len(classes), \"classes\", classes)\n",
        "# words = all words, vocabulary\n",
        "print (len(words), \"unique lemmatized words\", words)"
      ]
    },
    {
      "cell_type": "code",
      "execution_count": null,
      "metadata": {
        "colab": {
          "base_uri": "https://localhost:8080/"
        },
        "id": "Sohdj29NHlzd",
        "outputId": "fccc6a14-a995-4295-f603-2fefaa40a442"
      },
      "outputs": [
        {
          "name": "stdout",
          "output_type": "stream",
          "text": [
            "Training data created\n"
          ]
        }
      ],
      "source": [
        "# create our training data\n",
        "training = []\n",
        "# create an empty array for our output\n",
        "output_empty = [0] * len(classes)\n",
        "# training set, bag of words for each sentence\n",
        "for doc in documents:\n",
        "    # initialize our bag of words\n",
        "    bag = []\n",
        "    # list of tokenized words for the pattern\n",
        "    pattern_words = doc[0]\n",
        "    # lemmatize each word - create base word, in attempt to represent related words\n",
        "    pattern_words = [lemmatizer.lemmatize(word.lower()) for word in pattern_words]\n",
        "    # create our bag of words array with 1, if word match found in current pattern\n",
        "    for w in words:\n",
        "        bag.append(1) if w in pattern_words else bag.append(0)\n",
        "    # output is a '0' for each tag and '1' for current tag (for each pattern)\n",
        "    output_row = list(output_empty)\n",
        "    output_row[classes.index(doc[1])] = 1\n",
        "    training.append([bag, output_row])\n",
        "# shuffle our features and turn into np.array\n",
        "random.shuffle(training)\n",
        "training = np.array(training)\n",
        "# create train and test lists. X - patterns, Y - intents\n",
        "train_x = list(training[:,0])\n",
        "train_y = list(training[:,1])\n",
        "print(\"Training data created\")"
      ]
    },
    {
      "cell_type": "code",
      "execution_count": null,
      "metadata": {
        "colab": {
          "base_uri": "https://localhost:8080/"
        },
        "id": "okTjfxlBHw14",
        "outputId": "407c4f5b-da86-492f-ca95-9aae61cb3022"
      },
      "outputs": [
        {
          "name": "stdout",
          "output_type": "stream",
          "text": [
            "Epoch 1/200\n",
            "26/26 [==============================] - 1s 2ms/step - loss: 2.1410 - accuracy: 0.1210 \n",
            "Epoch 2/200\n",
            "26/26 [==============================] - 0s 1ms/step - loss: 1.9398 - accuracy: 0.2137\n",
            "Epoch 3/200\n",
            "26/26 [==============================] - 0s 2ms/step - loss: 1.8839 - accuracy: 0.2899\n",
            "Epoch 4/200\n",
            "26/26 [==============================] - 0s 1ms/step - loss: 1.7415 - accuracy: 0.3174\n",
            "Epoch 5/200\n",
            "26/26 [==============================] - 0s 2ms/step - loss: 1.7235 - accuracy: 0.4153\n",
            "Epoch 6/200\n",
            "26/26 [==============================] - 0s 1ms/step - loss: 1.6729 - accuracy: 0.3910\n",
            "Epoch 7/200\n",
            "26/26 [==============================] - 0s 1ms/step - loss: 1.3285 - accuracy: 0.4682\n",
            "Epoch 8/200\n",
            "26/26 [==============================] - 0s 1ms/step - loss: 1.4785 - accuracy: 0.3949\n",
            "Epoch 9/200\n",
            "26/26 [==============================] - 0s 1ms/step - loss: 1.0932 - accuracy: 0.6545\n",
            "Epoch 10/200\n",
            "26/26 [==============================] - 0s 1ms/step - loss: 1.1647 - accuracy: 0.6259\n",
            "Epoch 11/200\n",
            "26/26 [==============================] - 0s 1ms/step - loss: 1.0326 - accuracy: 0.5839\n",
            "Epoch 12/200\n",
            "26/26 [==============================] - 0s 1ms/step - loss: 1.0872 - accuracy: 0.5899\n",
            "Epoch 13/200\n",
            "26/26 [==============================] - 0s 1ms/step - loss: 0.8369 - accuracy: 0.7237\n",
            "Epoch 14/200\n",
            "26/26 [==============================] - 0s 1ms/step - loss: 0.7845 - accuracy: 0.7855\n",
            "Epoch 15/200\n",
            "26/26 [==============================] - 0s 1ms/step - loss: 0.7892 - accuracy: 0.7775\n",
            "Epoch 16/200\n",
            "26/26 [==============================] - 0s 1ms/step - loss: 0.5633 - accuracy: 0.8398\n",
            "Epoch 17/200\n",
            "26/26 [==============================] - 0s 1ms/step - loss: 0.6211 - accuracy: 0.8299\n",
            "Epoch 18/200\n",
            "26/26 [==============================] - 0s 2ms/step - loss: 0.6719 - accuracy: 0.7093\n",
            "Epoch 19/200\n",
            "26/26 [==============================] - 0s 2ms/step - loss: 0.4203 - accuracy: 0.8601\n",
            "Epoch 20/200\n",
            "26/26 [==============================] - 0s 2ms/step - loss: 0.3464 - accuracy: 0.9567\n",
            "Epoch 21/200\n",
            "26/26 [==============================] - 0s 2ms/step - loss: 0.3249 - accuracy: 0.9519\n",
            "Epoch 22/200\n",
            "26/26 [==============================] - 0s 2ms/step - loss: 0.4486 - accuracy: 0.8679\n",
            "Epoch 23/200\n",
            "26/26 [==============================] - 0s 2ms/step - loss: 0.3012 - accuracy: 0.8909\n",
            "Epoch 24/200\n",
            "26/26 [==============================] - 0s 2ms/step - loss: 0.3221 - accuracy: 0.9571\n",
            "Epoch 25/200\n",
            "26/26 [==============================] - 0s 2ms/step - loss: 0.2203 - accuracy: 0.9483\n",
            "Epoch 26/200\n",
            "26/26 [==============================] - 0s 2ms/step - loss: 0.2267 - accuracy: 0.9661\n",
            "Epoch 27/200\n",
            "26/26 [==============================] - 0s 2ms/step - loss: 0.2091 - accuracy: 0.9663\n",
            "Epoch 28/200\n",
            "26/26 [==============================] - 0s 2ms/step - loss: 0.1761 - accuracy: 0.9652\n",
            "Epoch 29/200\n",
            "26/26 [==============================] - 0s 2ms/step - loss: 0.1765 - accuracy: 0.9578\n",
            "Epoch 30/200\n",
            "26/26 [==============================] - 0s 2ms/step - loss: 0.2176 - accuracy: 0.9503\n",
            "Epoch 31/200\n",
            "26/26 [==============================] - 0s 2ms/step - loss: 0.1154 - accuracy: 0.9692\n",
            "Epoch 32/200\n",
            "26/26 [==============================] - 0s 2ms/step - loss: 0.2273 - accuracy: 0.9414\n",
            "Epoch 33/200\n",
            "26/26 [==============================] - 0s 2ms/step - loss: 0.1154 - accuracy: 0.9722\n",
            "Epoch 34/200\n",
            "26/26 [==============================] - 0s 2ms/step - loss: 0.2208 - accuracy: 0.9507\n",
            "Epoch 35/200\n",
            "26/26 [==============================] - 0s 2ms/step - loss: 0.1935 - accuracy: 0.9580\n",
            "Epoch 36/200\n",
            "26/26 [==============================] - 0s 2ms/step - loss: 0.1347 - accuracy: 0.9789\n",
            "Epoch 37/200\n",
            "26/26 [==============================] - 0s 2ms/step - loss: 0.1219 - accuracy: 0.9786\n",
            "Epoch 38/200\n",
            "26/26 [==============================] - 0s 2ms/step - loss: 0.0861 - accuracy: 0.9904\n",
            "Epoch 39/200\n",
            "26/26 [==============================] - 0s 2ms/step - loss: 0.0705 - accuracy: 0.9978\n",
            "Epoch 40/200\n",
            "26/26 [==============================] - 0s 2ms/step - loss: 0.1360 - accuracy: 0.9596\n",
            "Epoch 41/200\n",
            "26/26 [==============================] - 0s 2ms/step - loss: 0.0583 - accuracy: 1.0000\n",
            "Epoch 42/200\n",
            "26/26 [==============================] - 0s 2ms/step - loss: 0.0720 - accuracy: 0.9816\n",
            "Epoch 43/200\n",
            "26/26 [==============================] - 0s 2ms/step - loss: 0.0827 - accuracy: 0.9988\n",
            "Epoch 44/200\n",
            "26/26 [==============================] - 0s 2ms/step - loss: 0.0754 - accuracy: 0.9952\n",
            "Epoch 45/200\n",
            "26/26 [==============================] - 0s 2ms/step - loss: 0.0745 - accuracy: 0.9639\n",
            "Epoch 46/200\n",
            "26/26 [==============================] - 0s 2ms/step - loss: 0.1064 - accuracy: 0.9859\n",
            "Epoch 47/200\n",
            "26/26 [==============================] - 0s 2ms/step - loss: 0.1183 - accuracy: 0.9823\n",
            "Epoch 48/200\n",
            "26/26 [==============================] - 0s 2ms/step - loss: 0.0835 - accuracy: 0.9608\n",
            "Epoch 49/200\n",
            "26/26 [==============================] - 0s 2ms/step - loss: 0.0790 - accuracy: 0.9800\n",
            "Epoch 50/200\n",
            "26/26 [==============================] - 0s 2ms/step - loss: 0.0764 - accuracy: 0.9970\n",
            "Epoch 51/200\n",
            "26/26 [==============================] - 0s 2ms/step - loss: 0.0595 - accuracy: 1.0000\n",
            "Epoch 52/200\n",
            "26/26 [==============================] - 0s 2ms/step - loss: 0.0226 - accuracy: 1.0000\n",
            "Epoch 53/200\n",
            "26/26 [==============================] - 0s 2ms/step - loss: 0.0613 - accuracy: 0.9872\n",
            "Epoch 54/200\n",
            "26/26 [==============================] - 0s 2ms/step - loss: 0.0582 - accuracy: 0.9921\n",
            "Epoch 55/200\n",
            "26/26 [==============================] - 0s 2ms/step - loss: 0.0446 - accuracy: 1.0000\n",
            "Epoch 56/200\n",
            "26/26 [==============================] - 0s 2ms/step - loss: 0.0509 - accuracy: 0.9895\n",
            "Epoch 57/200\n",
            "26/26 [==============================] - 0s 2ms/step - loss: 0.0649 - accuracy: 0.9762\n",
            "Epoch 58/200\n",
            "26/26 [==============================] - 0s 1ms/step - loss: 0.0457 - accuracy: 0.9798\n",
            "Epoch 59/200\n",
            "26/26 [==============================] - 0s 2ms/step - loss: 0.0685 - accuracy: 1.0000\n",
            "Epoch 60/200\n",
            "26/26 [==============================] - 0s 2ms/step - loss: 0.0341 - accuracy: 1.0000\n",
            "Epoch 61/200\n",
            "26/26 [==============================] - 0s 2ms/step - loss: 0.0304 - accuracy: 1.0000\n",
            "Epoch 62/200\n",
            "26/26 [==============================] - 0s 2ms/step - loss: 0.0386 - accuracy: 1.0000\n",
            "Epoch 63/200\n",
            "26/26 [==============================] - 0s 1ms/step - loss: 0.0674 - accuracy: 0.9914\n",
            "Epoch 64/200\n",
            "26/26 [==============================] - 0s 2ms/step - loss: 0.0461 - accuracy: 1.0000\n",
            "Epoch 65/200\n",
            "26/26 [==============================] - 0s 1ms/step - loss: 0.0541 - accuracy: 0.9900\n",
            "Epoch 66/200\n",
            "26/26 [==============================] - 0s 1ms/step - loss: 0.0217 - accuracy: 0.9978\n",
            "Epoch 67/200\n",
            "26/26 [==============================] - 0s 1ms/step - loss: 0.0459 - accuracy: 0.9712\n",
            "Epoch 68/200\n",
            "26/26 [==============================] - 0s 1ms/step - loss: 0.0160 - accuracy: 1.0000\n",
            "Epoch 69/200\n",
            "26/26 [==============================] - 0s 1ms/step - loss: 0.0278 - accuracy: 0.9962\n",
            "Epoch 70/200\n",
            "26/26 [==============================] - 0s 1ms/step - loss: 0.0542 - accuracy: 0.9758\n",
            "Epoch 71/200\n",
            "26/26 [==============================] - 0s 1ms/step - loss: 0.0196 - accuracy: 1.0000\n",
            "Epoch 72/200\n",
            "26/26 [==============================] - 0s 1ms/step - loss: 0.0574 - accuracy: 0.9836\n",
            "Epoch 73/200\n",
            "26/26 [==============================] - 0s 1ms/step - loss: 0.0627 - accuracy: 0.9803\n",
            "Epoch 74/200\n",
            "26/26 [==============================] - 0s 1ms/step - loss: 0.0403 - accuracy: 0.9921\n",
            "Epoch 75/200\n",
            "26/26 [==============================] - 0s 1ms/step - loss: 0.0420 - accuracy: 0.9904\n",
            "Epoch 76/200\n",
            "26/26 [==============================] - 0s 1ms/step - loss: 0.0211 - accuracy: 1.0000\n",
            "Epoch 77/200\n",
            "26/26 [==============================] - 0s 1ms/step - loss: 0.0511 - accuracy: 1.0000\n",
            "Epoch 78/200\n",
            "26/26 [==============================] - 0s 1ms/step - loss: 0.0267 - accuracy: 0.9927\n",
            "Epoch 79/200\n",
            "26/26 [==============================] - 0s 1ms/step - loss: 0.0086 - accuracy: 1.0000\n",
            "Epoch 80/200\n",
            "26/26 [==============================] - 0s 1ms/step - loss: 0.0117 - accuracy: 1.0000\n",
            "Epoch 81/200\n",
            "26/26 [==============================] - 0s 1ms/step - loss: 0.0314 - accuracy: 1.0000\n",
            "Epoch 82/200\n",
            "26/26 [==============================] - 0s 1ms/step - loss: 0.0687 - accuracy: 0.9679\n",
            "Epoch 83/200\n",
            "26/26 [==============================] - 0s 1ms/step - loss: 0.0743 - accuracy: 0.9913\n",
            "Epoch 84/200\n",
            "26/26 [==============================] - 0s 1ms/step - loss: 0.0261 - accuracy: 0.9982\n",
            "Epoch 85/200\n",
            "26/26 [==============================] - 0s 1ms/step - loss: 0.0328 - accuracy: 0.9947\n",
            "Epoch 86/200\n",
            "26/26 [==============================] - 0s 1ms/step - loss: 0.0405 - accuracy: 0.9847\n",
            "Epoch 87/200\n",
            "26/26 [==============================] - 0s 1ms/step - loss: 0.0515 - accuracy: 0.9800\n",
            "Epoch 88/200\n",
            "26/26 [==============================] - 0s 1ms/step - loss: 0.0539 - accuracy: 0.9740\n",
            "Epoch 89/200\n",
            "26/26 [==============================] - 0s 1ms/step - loss: 0.0531 - accuracy: 0.9652\n",
            "Epoch 90/200\n",
            "26/26 [==============================] - 0s 1ms/step - loss: 0.0569 - accuracy: 0.9786\n",
            "Epoch 91/200\n",
            "26/26 [==============================] - 0s 1ms/step - loss: 0.0219 - accuracy: 0.9988\n",
            "Epoch 92/200\n",
            "26/26 [==============================] - 0s 1ms/step - loss: 0.0524 - accuracy: 0.9789\n",
            "Epoch 93/200\n",
            "26/26 [==============================] - 0s 1ms/step - loss: 0.0392 - accuracy: 0.9893\n",
            "Epoch 94/200\n",
            "26/26 [==============================] - 0s 1ms/step - loss: 0.0235 - accuracy: 1.0000\n",
            "Epoch 95/200\n",
            "26/26 [==============================] - 0s 1ms/step - loss: 0.0359 - accuracy: 0.9866\n",
            "Epoch 96/200\n",
            "26/26 [==============================] - 0s 1ms/step - loss: 0.0320 - accuracy: 1.0000\n",
            "Epoch 97/200\n",
            "26/26 [==============================] - 0s 1ms/step - loss: 0.0560 - accuracy: 0.9728\n",
            "Epoch 98/200\n",
            "26/26 [==============================] - 0s 1ms/step - loss: 0.0627 - accuracy: 0.9729\n",
            "Epoch 99/200\n",
            "26/26 [==============================] - 0s 1ms/step - loss: 0.0436 - accuracy: 0.9822\n",
            "Epoch 100/200\n",
            "26/26 [==============================] - 0s 1ms/step - loss: 0.0407 - accuracy: 0.9866\n",
            "Epoch 101/200\n",
            "26/26 [==============================] - 0s 1ms/step - loss: 0.0189 - accuracy: 1.0000\n",
            "Epoch 102/200\n",
            "26/26 [==============================] - 0s 1ms/step - loss: 0.0253 - accuracy: 0.9904\n",
            "Epoch 103/200\n",
            "26/26 [==============================] - 0s 1ms/step - loss: 0.0241 - accuracy: 1.0000\n",
            "Epoch 104/200\n",
            "26/26 [==============================] - 0s 1ms/step - loss: 0.0172 - accuracy: 0.9963\n",
            "Epoch 105/200\n",
            "26/26 [==============================] - 0s 1ms/step - loss: 0.0318 - accuracy: 0.9847\n",
            "Epoch 106/200\n",
            "26/26 [==============================] - 0s 1ms/step - loss: 0.0376 - accuracy: 0.9823\n",
            "Epoch 107/200\n",
            "26/26 [==============================] - 0s 1ms/step - loss: 0.0175 - accuracy: 1.0000\n",
            "Epoch 108/200\n",
            "26/26 [==============================] - 0s 1ms/step - loss: 0.0277 - accuracy: 0.9866\n",
            "Epoch 109/200\n",
            "26/26 [==============================] - 0s 1ms/step - loss: 0.0299 - accuracy: 0.9929\n",
            "Epoch 110/200\n",
            "26/26 [==============================] - 0s 1ms/step - loss: 0.0250 - accuracy: 1.0000\n",
            "Epoch 111/200\n",
            "26/26 [==============================] - 0s 1ms/step - loss: 0.0139 - accuracy: 1.0000\n",
            "Epoch 112/200\n",
            "26/26 [==============================] - 0s 1ms/step - loss: 0.0258 - accuracy: 0.9904\n",
            "Epoch 113/200\n",
            "26/26 [==============================] - 0s 1ms/step - loss: 0.0272 - accuracy: 0.9957\n",
            "Epoch 114/200\n",
            "26/26 [==============================] - 0s 1ms/step - loss: 0.0086 - accuracy: 1.0000\n",
            "Epoch 115/200\n",
            "26/26 [==============================] - 0s 1ms/step - loss: 0.0115 - accuracy: 1.0000\n",
            "Epoch 116/200\n",
            "26/26 [==============================] - 0s 1ms/step - loss: 0.0193 - accuracy: 1.0000\n",
            "Epoch 117/200\n",
            "26/26 [==============================] - 0s 1ms/step - loss: 0.0205 - accuracy: 0.9893\n",
            "Epoch 118/200\n",
            "26/26 [==============================] - 0s 1ms/step - loss: 0.0121 - accuracy: 1.0000\n",
            "Epoch 119/200\n",
            "26/26 [==============================] - 0s 1ms/step - loss: 0.0313 - accuracy: 0.9816\n",
            "Epoch 120/200\n",
            "26/26 [==============================] - 0s 1ms/step - loss: 0.0288 - accuracy: 0.9929\n",
            "Epoch 121/200\n",
            "26/26 [==============================] - 0s 1ms/step - loss: 0.0158 - accuracy: 0.9881\n",
            "Epoch 122/200\n",
            "26/26 [==============================] - 0s 1ms/step - loss: 0.0194 - accuracy: 0.9952\n",
            "Epoch 123/200\n",
            "26/26 [==============================] - 0s 1ms/step - loss: 0.0059 - accuracy: 1.0000\n",
            "Epoch 124/200\n",
            "26/26 [==============================] - 0s 1ms/step - loss: 0.0135 - accuracy: 1.0000\n",
            "Epoch 125/200\n",
            "26/26 [==============================] - 0s 2ms/step - loss: 0.0145 - accuracy: 1.0000\n",
            "Epoch 126/200\n",
            "26/26 [==============================] - 0s 2ms/step - loss: 0.0210 - accuracy: 0.9786\n",
            "Epoch 127/200\n",
            "26/26 [==============================] - 0s 1ms/step - loss: 0.0073 - accuracy: 1.0000\n",
            "Epoch 128/200\n",
            "26/26 [==============================] - 0s 1ms/step - loss: 0.0113 - accuracy: 1.0000\n",
            "Epoch 129/200\n",
            "26/26 [==============================] - 0s 1ms/step - loss: 0.0446 - accuracy: 0.9884\n",
            "Epoch 130/200\n",
            "26/26 [==============================] - 0s 1ms/step - loss: 0.0249 - accuracy: 0.9952\n",
            "Epoch 131/200\n",
            "26/26 [==============================] - 0s 1ms/step - loss: 0.0261 - accuracy: 1.0000\n",
            "Epoch 132/200\n",
            "26/26 [==============================] - 0s 1ms/step - loss: 0.0174 - accuracy: 1.0000\n",
            "Epoch 133/200\n",
            "26/26 [==============================] - 0s 1ms/step - loss: 0.0277 - accuracy: 1.0000\n",
            "Epoch 134/200\n",
            "26/26 [==============================] - 0s 1ms/step - loss: 0.0241 - accuracy: 1.0000\n",
            "Epoch 135/200\n",
            "26/26 [==============================] - 0s 1ms/step - loss: 0.0126 - accuracy: 1.0000\n",
            "Epoch 136/200\n",
            "26/26 [==============================] - 0s 1ms/step - loss: 0.0033 - accuracy: 1.0000\n",
            "Epoch 137/200\n",
            "26/26 [==============================] - 0s 1ms/step - loss: 0.0086 - accuracy: 1.0000\n",
            "Epoch 138/200\n",
            "26/26 [==============================] - 0s 1ms/step - loss: 0.0234 - accuracy: 0.9893\n",
            "Epoch 139/200\n",
            "26/26 [==============================] - 0s 1ms/step - loss: 0.0115 - accuracy: 1.0000\n",
            "Epoch 140/200\n",
            "26/26 [==============================] - 0s 1ms/step - loss: 0.0125 - accuracy: 1.0000\n",
            "Epoch 141/200\n",
            "26/26 [==============================] - 0s 1ms/step - loss: 0.0082 - accuracy: 1.0000\n",
            "Epoch 142/200\n",
            "26/26 [==============================] - 0s 1ms/step - loss: 0.0098 - accuracy: 0.9988\n",
            "Epoch 143/200\n",
            "26/26 [==============================] - 0s 1ms/step - loss: 0.0142 - accuracy: 0.9944\n",
            "Epoch 144/200\n",
            "26/26 [==============================] - 0s 1ms/step - loss: 0.0097 - accuracy: 1.0000\n",
            "Epoch 145/200\n",
            "26/26 [==============================] - 0s 1ms/step - loss: 0.0118 - accuracy: 0.9941\n",
            "Epoch 146/200\n",
            "26/26 [==============================] - 0s 1ms/step - loss: 0.0205 - accuracy: 0.9893\n",
            "Epoch 147/200\n",
            "26/26 [==============================] - 0s 1ms/step - loss: 0.0322 - accuracy: 1.0000\n",
            "Epoch 148/200\n",
            "26/26 [==============================] - 0s 1ms/step - loss: 0.0159 - accuracy: 1.0000\n",
            "Epoch 149/200\n",
            "26/26 [==============================] - 0s 1ms/step - loss: 0.0176 - accuracy: 1.0000\n",
            "Epoch 150/200\n",
            "26/26 [==============================] - 0s 1ms/step - loss: 0.0475 - accuracy: 0.9786\n",
            "Epoch 151/200\n",
            "26/26 [==============================] - 0s 1ms/step - loss: 0.0204 - accuracy: 0.9929\n",
            "Epoch 152/200\n",
            "26/26 [==============================] - 0s 1ms/step - loss: 0.0256 - accuracy: 0.9925\n",
            "Epoch 153/200\n",
            "26/26 [==============================] - 0s 1ms/step - loss: 0.0201 - accuracy: 1.0000\n",
            "Epoch 154/200\n",
            "26/26 [==============================] - 0s 1ms/step - loss: 0.0095 - accuracy: 1.0000\n",
            "Epoch 155/200\n",
            "26/26 [==============================] - 0s 1ms/step - loss: 0.0161 - accuracy: 1.0000\n",
            "Epoch 156/200\n",
            "26/26 [==============================] - 0s 1ms/step - loss: 0.0081 - accuracy: 1.0000\n",
            "Epoch 157/200\n",
            "26/26 [==============================] - 0s 1ms/step - loss: 0.0255 - accuracy: 0.9921\n",
            "Epoch 158/200\n",
            "26/26 [==============================] - 0s 1ms/step - loss: 0.0737 - accuracy: 0.9727\n",
            "Epoch 159/200\n",
            "26/26 [==============================] - 0s 1ms/step - loss: 0.0081 - accuracy: 1.0000\n",
            "Epoch 160/200\n",
            "26/26 [==============================] - 0s 1ms/step - loss: 0.0229 - accuracy: 0.9823\n",
            "Epoch 161/200\n",
            "26/26 [==============================] - 0s 1ms/step - loss: 0.0085 - accuracy: 1.0000\n",
            "Epoch 162/200\n",
            "26/26 [==============================] - 0s 1ms/step - loss: 0.0089 - accuracy: 1.0000\n",
            "Epoch 163/200\n",
            "26/26 [==============================] - 0s 1ms/step - loss: 0.0120 - accuracy: 1.0000\n",
            "Epoch 164/200\n",
            "26/26 [==============================] - 0s 1ms/step - loss: 0.0120 - accuracy: 1.0000\n",
            "Epoch 165/200\n",
            "26/26 [==============================] - 0s 1ms/step - loss: 0.0427 - accuracy: 0.9861\n",
            "Epoch 166/200\n",
            "26/26 [==============================] - 0s 1ms/step - loss: 0.0508 - accuracy: 0.9682\n",
            "Epoch 167/200\n",
            "26/26 [==============================] - 0s 1ms/step - loss: 0.0081 - accuracy: 1.0000\n",
            "Epoch 168/200\n",
            "26/26 [==============================] - 0s 1ms/step - loss: 0.0235 - accuracy: 0.9893\n",
            "Epoch 169/200\n",
            "26/26 [==============================] - 0s 1ms/step - loss: 0.0222 - accuracy: 0.9817\n",
            "Epoch 170/200\n",
            "26/26 [==============================] - 0s 1ms/step - loss: 0.0104 - accuracy: 1.0000\n",
            "Epoch 171/200\n",
            "26/26 [==============================] - 0s 1ms/step - loss: 0.0059 - accuracy: 1.0000\n",
            "Epoch 172/200\n",
            "26/26 [==============================] - 0s 1ms/step - loss: 0.0031 - accuracy: 1.0000\n",
            "Epoch 173/200\n",
            "26/26 [==============================] - 0s 1ms/step - loss: 0.0079 - accuracy: 1.0000\n",
            "Epoch 174/200\n",
            "26/26 [==============================] - 0s 1ms/step - loss: 0.0167 - accuracy: 0.9966\n",
            "Epoch 175/200\n",
            "26/26 [==============================] - 0s 1ms/step - loss: 0.0256 - accuracy: 1.0000\n",
            "Epoch 176/200\n",
            "26/26 [==============================] - 0s 1ms/step - loss: 0.0026 - accuracy: 1.0000\n",
            "Epoch 177/200\n",
            "26/26 [==============================] - 0s 1ms/step - loss: 0.0074 - accuracy: 0.9991\n",
            "Epoch 178/200\n",
            "26/26 [==============================] - 0s 1ms/step - loss: 0.0164 - accuracy: 0.9991\n",
            "Epoch 179/200\n",
            "26/26 [==============================] - 0s 1ms/step - loss: 0.0135 - accuracy: 1.0000\n",
            "Epoch 180/200\n",
            "26/26 [==============================] - 0s 1ms/step - loss: 0.0073 - accuracy: 1.0000\n",
            "Epoch 181/200\n",
            "26/26 [==============================] - 0s 1ms/step - loss: 0.0077 - accuracy: 1.0000\n",
            "Epoch 182/200\n",
            "26/26 [==============================] - 0s 1ms/step - loss: 0.0172 - accuracy: 1.0000\n",
            "Epoch 183/200\n",
            "26/26 [==============================] - 0s 1ms/step - loss: 0.0053 - accuracy: 1.0000\n",
            "Epoch 184/200\n",
            "26/26 [==============================] - 0s 1ms/step - loss: 0.0078 - accuracy: 1.0000\n",
            "Epoch 185/200\n",
            "26/26 [==============================] - 0s 1ms/step - loss: 0.0054 - accuracy: 1.0000\n",
            "Epoch 186/200\n",
            "26/26 [==============================] - 0s 1ms/step - loss: 0.0163 - accuracy: 0.9982\n",
            "Epoch 187/200\n",
            "26/26 [==============================] - 0s 1ms/step - loss: 0.0065 - accuracy: 1.0000\n",
            "Epoch 188/200\n",
            "26/26 [==============================] - 0s 1ms/step - loss: 0.0034 - accuracy: 1.0000\n",
            "Epoch 189/200\n",
            "26/26 [==============================] - 0s 1ms/step - loss: 0.0106 - accuracy: 1.0000\n",
            "Epoch 190/200\n",
            "26/26 [==============================] - 0s 1ms/step - loss: 0.0040 - accuracy: 1.0000\n",
            "Epoch 191/200\n",
            "26/26 [==============================] - 0s 1ms/step - loss: 0.0055 - accuracy: 1.0000\n",
            "Epoch 192/200\n",
            "26/26 [==============================] - 0s 1ms/step - loss: 0.0197 - accuracy: 0.9985\n",
            "Epoch 193/200\n",
            "26/26 [==============================] - 0s 1ms/step - loss: 0.0120 - accuracy: 0.9881\n",
            "Epoch 194/200\n",
            "26/26 [==============================] - 0s 1ms/step - loss: 0.0053 - accuracy: 1.0000\n",
            "Epoch 195/200\n",
            "26/26 [==============================] - 0s 1ms/step - loss: 0.0048 - accuracy: 1.0000\n",
            "Epoch 196/200\n",
            "26/26 [==============================] - 0s 1ms/step - loss: 0.0123 - accuracy: 1.0000\n",
            "Epoch 197/200\n",
            "26/26 [==============================] - 0s 1ms/step - loss: 0.0064 - accuracy: 1.0000\n",
            "Epoch 198/200\n",
            "26/26 [==============================] - 0s 1ms/step - loss: 0.0108 - accuracy: 1.0000\n",
            "Epoch 199/200\n",
            "26/26 [==============================] - 0s 1ms/step - loss: 0.0035 - accuracy: 0.9988\n",
            "Epoch 200/200\n",
            "26/26 [==============================] - 0s 1ms/step - loss: 0.0055 - accuracy: 1.0000\n",
            "model created\n"
          ]
        }
      ],
      "source": [
        "# Create model - 3 layers. First layer 128 neurons, second layer 64 neurons and 3rd output layer contains number of neurons\n",
        "# equal to number of intents to predict output intent with softmax\n",
        "model = Sequential()\n",
        "model.add(Dense(128, input_shape=(len(train_x[0]),), activation='relu'))\n",
        "model.add(Dropout(0.5))\n",
        "model.add(Dense(64, activation='relu'))\n",
        "model.add(Dropout(0.5))\n",
        "model.add(Dense(len(train_y[0]), activation='softmax'))\n",
        "# Compile model. Stochastic gradient descent with Nesterov accelerated gradient gives good results for this model\n",
        "sgd = SGD(lr=0.01, decay=1e-6, momentum=0.9, nesterov=True)\n",
        "model.compile(loss='categorical_crossentropy', optimizer=sgd, metrics=['accuracy'])\n",
        "#fitting and saving the model \n",
        "hist = model.fit(np.array(train_x), np.array(train_y), epochs=200, batch_size=5, verbose=1)\n",
        "model.save('chatbot_model.h5', hist)\n",
        "print(\"model created\")"
      ]
    },
    {
      "cell_type": "code",
      "execution_count": null,
      "metadata": {
        "id": "0x-klNAiIGGX"
      },
      "outputs": [],
      "source": [
        "pickle.dump(words,open('words.pkl','wb'))\n",
        "pickle.dump(classes,open('classes.pkl','wb'))"
      ]
    },
    {
      "cell_type": "code",
      "execution_count": null,
      "metadata": {
        "id": "xjQZAB7mIICK"
      },
      "outputs": [],
      "source": [
        "import nltk\n",
        "from nltk.stem import WordNetLemmatizer\n",
        "lemmatizer = WordNetLemmatizer()\n",
        "import pickle\n",
        "import numpy as np\n",
        "import json\n",
        "import random\n",
        "from keras.models import load_model\n",
        "model = load_model('chatbot_model.h5')\n",
        "intents = json.loads(open('/content/gdrive/MyDrive/GL data/P9/GL Bot.json').read())\n",
        "words = pickle.load(open('words.pkl','rb'))\n",
        "classes = pickle.load(open('classes.pkl','rb'))"
      ]
    },
    {
      "cell_type": "code",
      "execution_count": null,
      "metadata": {
        "id": "ma5w5g9NJCDW"
      },
      "outputs": [],
      "source": [
        "def clean_up_sentence(sentence):\n",
        "    # tokenize the pattern - split words into array\n",
        "    sentence_words = nltk.word_tokenize(sentence)\n",
        "    # stem each word - create short form for word\n",
        "    sentence_words = [lemmatizer.lemmatize(word.lower()) for word in sentence_words]\n",
        "    return sentence_words\n",
        "# return bag of words array: 0 or 1 for each word in the bag that exists in the sentence\n",
        "def bow(sentence, words, show_details=True):\n",
        "    # tokenize the pattern\n",
        "    sentence_words = clean_up_sentence(sentence)\n",
        "    # bag of words - matrix of N words, vocabulary matrix\n",
        "    bag = [0]*len(words) \n",
        "    for s in sentence_words:\n",
        "        for i,w in enumerate(words):\n",
        "            if w == s: \n",
        "                # assign 1 if current word is in the vocabulary position\n",
        "                bag[i] = 1\n",
        "                if show_details:\n",
        "                    print (\"found in bag: %s\" % w)\n",
        "    return(np.array(bag))\n",
        "def predict_class(sentence, model):\n",
        "    # filter out predictions below a threshold\n",
        "    p = bow(sentence, words,show_details=False)\n",
        "    res = model.predict(np.array([p]))[0]\n",
        "    ERROR_THRESHOLD = 0.25\n",
        "    results = [[i,r] for i,r in enumerate(res) if r>ERROR_THRESHOLD]\n",
        "    # sort by strength of probability\n",
        "    results.sort(key=lambda x: x[1], reverse=True)\n",
        "    return_list = []\n",
        "    for r in results:\n",
        "        return_list.append({\"intent\": classes[r[0]], \"probability\": str(r[1])})\n",
        "    return return_list"
      ]
    },
    {
      "cell_type": "code",
      "execution_count": null,
      "metadata": {
        "id": "-VtmlIbEJIwi"
      },
      "outputs": [],
      "source": [
        "def getResponse(ints, intents_json):\n",
        "    tag = ints[0]['intent']\n",
        "    list_of_intents = intents_json['intents']\n",
        "    for i in list_of_intents:\n",
        "        if(i['tag']== tag):\n",
        "            result = random.choice(i['responses'])\n",
        "            break\n",
        "    return result\n",
        "def chatbot_response(text):\n",
        "    ints = predict_class(text, model)\n",
        "    res = getResponse(ints, intents)\n",
        "    return res"
      ]
    },
    {
      "cell_type": "code",
      "execution_count": null,
      "metadata": {
        "colab": {
          "base_uri": "https://localhost:8080/",
          "height": 35
        },
        "id": "I29qnyi5JpmO",
        "outputId": "e22f43c7-e012-40eb-b8cd-ef8f407755a6"
      },
      "outputs": [
        {
          "data": {
            "application/vnd.google.colaboratory.intrinsic+json": {
              "type": "string"
            },
            "text/plain": [
              "'Link: Neural Nets wiki'"
            ]
          },
          "execution_count": 103,
          "metadata": {
            "tags": []
          },
          "output_type": "execute_result"
        }
      ],
      "source": [
        "chatbot_response(\"where is nlp\")"
      ]
    },
    {
      "cell_type": "code",
      "execution_count": null,
      "metadata": {
        "id": "H4_cqtOcIqx8"
      },
      "outputs": [],
      "source": [
        "#text chat utility function\n",
        "\n",
        "def chat():\n",
        "  print(\"Chat with Kaushik (type: stop to quit)\")\n",
        "  print(\"if answer is not right (type: *)\")\n",
        "  while True:\n",
        "    inp = input(\"\\n\\nYou:\")\n",
        "    if inp.lower() == \"*\":\n",
        "      print(\"BOT: Please rephrase your question and try again\")\n",
        "    if inp.lower() == \"quit\":\n",
        "      break\n",
        "\n",
        "    results = chatbot_response(inp)\n",
        "    print(results)"
      ]
    },
    {
      "cell_type": "code",
      "execution_count": null,
      "metadata": {
        "colab": {
          "base_uri": "https://localhost:8080/"
        },
        "id": "L-qGRO9-KTQu",
        "outputId": "3313bf57-5934-4069-a652-3081a21b20c8"
      },
      "outputs": [
        {
          "name": "stdout",
          "output_type": "stream",
          "text": [
            "Chat with Kaushik (type: stop to quit)\n",
            "if answer is not right (type: *)\n",
            "\n",
            "\n",
            "You:what is nlp\n",
            "Link: Neural Nets wiki\n",
            "\n",
            "\n",
            "You:what is midwife\n",
            "Link: Neural Nets wiki\n",
            "\n",
            "\n",
            "You:no that is bad\n",
            "Tarnsferring the request to your PM\n",
            "\n",
            "\n",
            "You:sorry\n",
            "Link: Neural Nets wiki\n",
            "\n",
            "\n",
            "You:what is ml\n",
            "Link: Machine Learning wiki \n",
            "\n",
            "\n",
            "You:what is olympus\n",
            "Link: Olympus wiki\n",
            "\n",
            "\n",
            "You:no i want nlp\n",
            "Link: Machine Learning wiki \n",
            "\n",
            "\n",
            "You:no no i want nlp\n",
            "Link: Machine Learning wiki \n",
            "\n",
            "\n",
            "You:no nlp is neural net\n",
            "Link: Neural Nets wiki\n",
            "\n",
            "\n",
            "You:quit\n"
          ]
        }
      ],
      "source": [
        "chat()"
      ]
    },
    {
      "cell_type": "markdown",
      "metadata": {
        "id": "c-Mm-Ez7rda4"
      },
      "source": [
        "What is needed here is further fine tuning the neural network for a better prediction. \n",
        "In addition, I only added one text for demonstration into the json intents. It can be enriched, which would eventually enrich the training data and theirfore prediction accuracy."
      ]
    }
  ],
  "metadata": {
    "accelerator": "TPU",
    "colab": {
      "collapsed_sections": [],
      "machine_shape": "hm",
      "name": "NLP.ipynb",
      "provenance": [],
      "include_colab_link": true
    },
    "kernelspec": {
      "display_name": "Python 3",
      "language": "python",
      "name": "python3"
    },
    "language_info": {
      "codemirror_mode": {
        "name": "ipython",
        "version": 3
      },
      "file_extension": ".py",
      "mimetype": "text/x-python",
      "name": "python",
      "nbconvert_exporter": "python",
      "pygments_lexer": "ipython3",
      "version": "3.8.5"
    }
  },
  "nbformat": 4,
  "nbformat_minor": 0
}